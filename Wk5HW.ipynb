{
  "nbformat": 4,
  "nbformat_minor": 0,
  "metadata": {
    "colab": {
      "provenance": [],
      "authorship_tag": "ABX9TyNTI2RTsjstONvqHcAN92rQ",
      "include_colab_link": true
    },
    "kernelspec": {
      "name": "python3",
      "display_name": "Python 3"
    },
    "language_info": {
      "name": "python"
    }
  },
  "cells": [
    {
      "cell_type": "markdown",
      "metadata": {
        "id": "view-in-github",
        "colab_type": "text"
      },
      "source": [
        "<a href=\"https://colab.research.google.com/github/harrietspence/harrietspence.github.io/blob/main/Wk5HW.ipynb\" target=\"_parent\"><img src=\"https://colab.research.google.com/assets/colab-badge.svg\" alt=\"Open In Colab\"/></a>"
      ]
    },
    {
      "cell_type": "code",
      "execution_count": 3,
      "metadata": {
        "colab": {
          "base_uri": "https://localhost:8080/"
        },
        "id": "_M74Yf7yQyLg",
        "outputId": "4f85fb52-5a5a-4e11-c43a-de3a4f8b6e74"
      },
      "outputs": [
        {
          "output_type": "stream",
          "name": "stdout",
          "text": [
            "https://api.ons.gov.uk/timeseries/k8au/dataset/bb/data\n",
            "https://api.ons.gov.uk/timeseries/k8as/dataset/bb/data\n",
            "https://api.ons.gov.uk/timeseries/k8ar/dataset/bb/data\n",
            "https://api.ons.gov.uk/timeseries/k8b4/dataset/bb/data\n",
            "https://api.ons.gov.uk/timeseries/fs9r/dataset/bb/data\n",
            "https://api.ons.gov.uk/timeseries/fs9s/dataset/bb/data\n",
            "https://api.ons.gov.uk/timeseries/fs9t/dataset/bb/data\n",
            "https://api.ons.gov.uk/timeseries/k8aq/dataset/bb/data\n",
            "https://api.ons.gov.uk/timeseries/k8av/dataset/bb/data\n"
          ]
        }
      ],
      "source": [
        "url_base = \"https://api.ons.gov.uk/timeseries/{}/dataset/bb/data\"\n",
        "\n",
        "\n",
        "ONSSeries = ['k8au','k8as','k8ar','k8b4','fs9r','fs9s','fs9t','k8aq','k8av']\n",
        "for i in ONSSeries:  \n",
        "   URL = url_base.format(i)\n",
        "   print(URL)\n"
      ]
    },
    {
      "cell_type": "code",
      "source": [
        "import requests \n",
        "import json\n",
        "from google.colab import files \n",
        "import os"
      ],
      "metadata": {
        "id": "tAJ2D7-rVUwL"
      },
      "execution_count": 4,
      "outputs": []
    },
    {
      "cell_type": "code",
      "source": [
        "print(requests.__version__)\n",
        "print(json.__version__)"
      ],
      "metadata": {
        "colab": {
          "base_uri": "https://localhost:8080/"
        },
        "id": "lNYVEo2RVtZf",
        "outputId": "b6f8f952-3fb5-447c-d099-eb610f022857"
      },
      "execution_count": 5,
      "outputs": [
        {
          "output_type": "stream",
          "name": "stdout",
          "text": [
            "2.23.0\n",
            "2.0.9\n"
          ]
        }
      ]
    },
    {
      "cell_type": "code",
      "source": [
        "#getting data from a single API\n",
        "url = \"https://api.ons.gov.uk/timeseries/k8au/dataset/bb/data\"\n",
        "data = requests.get(url).json()\n",
        "data"
      ],
      "metadata": {
        "colab": {
          "base_uri": "https://localhost:8080/"
        },
        "id": "8Jfy296qVuWg",
        "outputId": "2a001e98-43f5-4c2b-afc8-27d697571c4e"
      },
      "execution_count": 6,
      "outputs": [
        {
          "output_type": "execute_result",
          "data": {
            "text/plain": [
              "{'description': {'cdid': 'K8AU',\n",
              "  'contact': {'email': 'blue.book.coordination@ons.gov.uk  ',\n",
              "   'name': 'Claire Evans',\n",
              "   'telephone': '+44 1633 456545'},\n",
              "  'datasetId': 'BB',\n",
              "  'datasetUri': '/economy/grossdomesticproductgdp/datasets/bluebook',\n",
              "  'date': '2020',\n",
              "  'nextRelease': 'October 2023',\n",
              "  'number': '11615',\n",
              "  'preUnit': '',\n",
              "  'releaseDate': '2022-10-31T00:00:00.000Z',\n",
              "  'sampleSize': '0',\n",
              "  'source': '',\n",
              "  'title': 'Air emissions All greenhouse gases-Construction-Thousand tonnes CO2 equivalent',\n",
              "  'unit': ''},\n",
              " 'months': [],\n",
              " 'quarters': [],\n",
              " 'relatedDatasets': [{'uri': '/economy/grossdomesticproductgdp/datasets/bluebook'}],\n",
              " 'relatedDocuments': [{'uri': '/economy/grossdomesticproductgdp/compendium/unitedkingdomnationalaccountsthebluebook/latest'}],\n",
              " 'sourceDatasets': [],\n",
              " 'type': 'timeseries',\n",
              " 'uri': '/economy/grossdomesticproductgdp/timeseries/k8au/bb',\n",
              " 'versions': [{'correctionNotice': '',\n",
              "   'label': 'v1',\n",
              "   'updateDate': '2016-07-29T08:30:00.000Z',\n",
              "   'uri': '/economy/grossdomesticproductgdp/timeseries/k8au/bb/previous/v1'},\n",
              "  {'correctionNotice': '',\n",
              "   'label': 'v2',\n",
              "   'updateDate': '2017-10-31T09:30:00.000Z',\n",
              "   'uri': '/economy/grossdomesticproductgdp/timeseries/k8au/bb/previous/v2'},\n",
              "  {'correctionNotice': '',\n",
              "   'label': 'v3',\n",
              "   'updateDate': '2018-07-31T08:30:00.000Z',\n",
              "   'uri': '/economy/grossdomesticproductgdp/timeseries/k8au/bb/previous/v3'},\n",
              "  {'correctionNotice': '',\n",
              "   'label': 'v4',\n",
              "   'updateDate': '2019-10-31T09:30:00.000Z',\n",
              "   'uri': '/economy/grossdomesticproductgdp/timeseries/k8au/bb/previous/v4'},\n",
              "  {'correctionNotice': '',\n",
              "   'label': 'v5',\n",
              "   'updateDate': '2020-11-02T11:01:02.615Z',\n",
              "   'uri': '/economy/grossdomesticproductgdp/timeseries/k8au/bb/previous/v5'},\n",
              "  {'correctionNotice': '',\n",
              "   'label': 'v6',\n",
              "   'updateDate': '2021-10-29T08:30:00.000Z',\n",
              "   'uri': '/economy/grossdomesticproductgdp/timeseries/k8au/bb/previous/v6'},\n",
              "  {'correctionNotice': '',\n",
              "   'label': 'v7',\n",
              "   'updateDate': '2022-10-31T09:30:00.000Z',\n",
              "   'uri': '/economy/grossdomesticproductgdp/timeseries/k8au/bb/previous/v7'}],\n",
              " 'years': [{'date': '1990',\n",
              "   'label': '1990',\n",
              "   'month': '',\n",
              "   'quarter': '',\n",
              "   'sourceDataset': 'BB',\n",
              "   'updateDate': '2022-10-31T00:00:00.000Z',\n",
              "   'value': '9442',\n",
              "   'year': '1990'},\n",
              "  {'date': '1991',\n",
              "   'label': '1991',\n",
              "   'month': '',\n",
              "   'quarter': '',\n",
              "   'sourceDataset': 'BB',\n",
              "   'updateDate': '2022-10-31T00:00:00.000Z',\n",
              "   'value': '9410',\n",
              "   'year': '1991'},\n",
              "  {'date': '1992',\n",
              "   'label': '1992',\n",
              "   'month': '',\n",
              "   'quarter': '',\n",
              "   'sourceDataset': 'BB',\n",
              "   'updateDate': '2022-10-31T00:00:00.000Z',\n",
              "   'value': '9505',\n",
              "   'year': '1992'},\n",
              "  {'date': '1993',\n",
              "   'label': '1993',\n",
              "   'month': '',\n",
              "   'quarter': '',\n",
              "   'sourceDataset': 'BB',\n",
              "   'updateDate': '2022-10-31T00:00:00.000Z',\n",
              "   'value': '9623',\n",
              "   'year': '1993'},\n",
              "  {'date': '1994',\n",
              "   'label': '1994',\n",
              "   'month': '',\n",
              "   'quarter': '',\n",
              "   'sourceDataset': 'BB',\n",
              "   'updateDate': '2022-10-31T00:00:00.000Z',\n",
              "   'value': '10048',\n",
              "   'year': '1994'},\n",
              "  {'date': '1995',\n",
              "   'label': '1995',\n",
              "   'month': '',\n",
              "   'quarter': '',\n",
              "   'sourceDataset': 'BB',\n",
              "   'updateDate': '2022-10-31T00:00:00.000Z',\n",
              "   'value': '10157',\n",
              "   'year': '1995'},\n",
              "  {'date': '1996',\n",
              "   'label': '1996',\n",
              "   'month': '',\n",
              "   'quarter': '',\n",
              "   'sourceDataset': 'BB',\n",
              "   'updateDate': '2022-10-31T00:00:00.000Z',\n",
              "   'value': '10430',\n",
              "   'year': '1996'},\n",
              "  {'date': '1997',\n",
              "   'label': '1997',\n",
              "   'month': '',\n",
              "   'quarter': '',\n",
              "   'sourceDataset': 'BB',\n",
              "   'updateDate': '2022-10-31T00:00:00.000Z',\n",
              "   'value': '10682',\n",
              "   'year': '1997'},\n",
              "  {'date': '1998',\n",
              "   'label': '1998',\n",
              "   'month': '',\n",
              "   'quarter': '',\n",
              "   'sourceDataset': 'BB',\n",
              "   'updateDate': '2022-10-31T00:00:00.000Z',\n",
              "   'value': '10939',\n",
              "   'year': '1998'},\n",
              "  {'date': '1999',\n",
              "   'label': '1999',\n",
              "   'month': '',\n",
              "   'quarter': '',\n",
              "   'sourceDataset': 'BB',\n",
              "   'updateDate': '2022-10-31T00:00:00.000Z',\n",
              "   'value': '11198',\n",
              "   'year': '1999'},\n",
              "  {'date': '2000',\n",
              "   'label': '2000',\n",
              "   'month': '',\n",
              "   'quarter': '',\n",
              "   'sourceDataset': 'BB',\n",
              "   'updateDate': '2022-10-31T00:00:00.000Z',\n",
              "   'value': '11400',\n",
              "   'year': '2000'},\n",
              "  {'date': '2001',\n",
              "   'label': '2001',\n",
              "   'month': '',\n",
              "   'quarter': '',\n",
              "   'sourceDataset': 'BB',\n",
              "   'updateDate': '2022-10-31T00:00:00.000Z',\n",
              "   'value': '11719',\n",
              "   'year': '2001'},\n",
              "  {'date': '2002',\n",
              "   'label': '2002',\n",
              "   'month': '',\n",
              "   'quarter': '',\n",
              "   'sourceDataset': 'BB',\n",
              "   'updateDate': '2022-10-31T00:00:00.000Z',\n",
              "   'value': '11797',\n",
              "   'year': '2002'},\n",
              "  {'date': '2003',\n",
              "   'label': '2003',\n",
              "   'month': '',\n",
              "   'quarter': '',\n",
              "   'sourceDataset': 'BB',\n",
              "   'updateDate': '2022-10-31T00:00:00.000Z',\n",
              "   'value': '12045',\n",
              "   'year': '2003'},\n",
              "  {'date': '2004',\n",
              "   'label': '2004',\n",
              "   'month': '',\n",
              "   'quarter': '',\n",
              "   'sourceDataset': 'BB',\n",
              "   'updateDate': '2022-10-31T00:00:00.000Z',\n",
              "   'value': '12613',\n",
              "   'year': '2004'},\n",
              "  {'date': '2005',\n",
              "   'label': '2005',\n",
              "   'month': '',\n",
              "   'quarter': '',\n",
              "   'sourceDataset': 'BB',\n",
              "   'updateDate': '2022-10-31T00:00:00.000Z',\n",
              "   'value': '12668',\n",
              "   'year': '2005'},\n",
              "  {'date': '2006',\n",
              "   'label': '2006',\n",
              "   'month': '',\n",
              "   'quarter': '',\n",
              "   'sourceDataset': 'BB',\n",
              "   'updateDate': '2022-10-31T00:00:00.000Z',\n",
              "   'value': '12915',\n",
              "   'year': '2006'},\n",
              "  {'date': '2007',\n",
              "   'label': '2007',\n",
              "   'month': '',\n",
              "   'quarter': '',\n",
              "   'sourceDataset': 'BB',\n",
              "   'updateDate': '2022-10-31T00:00:00.000Z',\n",
              "   'value': '13294',\n",
              "   'year': '2007'},\n",
              "  {'date': '2008',\n",
              "   'label': '2008',\n",
              "   'month': '',\n",
              "   'quarter': '',\n",
              "   'sourceDataset': 'BB',\n",
              "   'updateDate': '2022-10-31T00:00:00.000Z',\n",
              "   'value': '13496',\n",
              "   'year': '2008'},\n",
              "  {'date': '2009',\n",
              "   'label': '2009',\n",
              "   'month': '',\n",
              "   'quarter': '',\n",
              "   'sourceDataset': 'BB',\n",
              "   'updateDate': '2022-10-31T00:00:00.000Z',\n",
              "   'value': '11908',\n",
              "   'year': '2009'},\n",
              "  {'date': '2010',\n",
              "   'label': '2010',\n",
              "   'month': '',\n",
              "   'quarter': '',\n",
              "   'sourceDataset': 'BB',\n",
              "   'updateDate': '2022-10-31T00:00:00.000Z',\n",
              "   'value': '11988',\n",
              "   'year': '2010'},\n",
              "  {'date': '2011',\n",
              "   'label': '2011',\n",
              "   'month': '',\n",
              "   'quarter': '',\n",
              "   'sourceDataset': 'BB',\n",
              "   'updateDate': '2022-10-31T00:00:00.000Z',\n",
              "   'value': '11353',\n",
              "   'year': '2011'},\n",
              "  {'date': '2012',\n",
              "   'label': '2012',\n",
              "   'month': '',\n",
              "   'quarter': '',\n",
              "   'sourceDataset': 'BB',\n",
              "   'updateDate': '2022-10-31T00:00:00.000Z',\n",
              "   'value': '11963',\n",
              "   'year': '2012'},\n",
              "  {'date': '2013',\n",
              "   'label': '2013',\n",
              "   'month': '',\n",
              "   'quarter': '',\n",
              "   'sourceDataset': 'BB',\n",
              "   'updateDate': '2022-10-31T00:00:00.000Z',\n",
              "   'value': '11144',\n",
              "   'year': '2013'},\n",
              "  {'date': '2014',\n",
              "   'label': '2014',\n",
              "   'month': '',\n",
              "   'quarter': '',\n",
              "   'sourceDataset': 'BB',\n",
              "   'updateDate': '2022-10-31T00:00:00.000Z',\n",
              "   'value': '11578',\n",
              "   'year': '2014'},\n",
              "  {'date': '2015',\n",
              "   'label': '2015',\n",
              "   'month': '',\n",
              "   'quarter': '',\n",
              "   'sourceDataset': 'BB',\n",
              "   'updateDate': '2022-10-31T00:00:00.000Z',\n",
              "   'value': '12567',\n",
              "   'year': '2015'},\n",
              "  {'date': '2016',\n",
              "   'label': '2016',\n",
              "   'month': '',\n",
              "   'quarter': '',\n",
              "   'sourceDataset': 'BB',\n",
              "   'updateDate': '2022-10-31T00:00:00.000Z',\n",
              "   'value': '12998',\n",
              "   'year': '2016'},\n",
              "  {'date': '2017',\n",
              "   'label': '2017',\n",
              "   'month': '',\n",
              "   'quarter': '',\n",
              "   'sourceDataset': 'BB',\n",
              "   'updateDate': '2022-10-31T00:00:00.000Z',\n",
              "   'value': '13473',\n",
              "   'year': '2017'},\n",
              "  {'date': '2018',\n",
              "   'label': '2018',\n",
              "   'month': '',\n",
              "   'quarter': '',\n",
              "   'sourceDataset': 'BB',\n",
              "   'updateDate': '2022-10-31T00:00:00.000Z',\n",
              "   'value': '13669',\n",
              "   'year': '2018'},\n",
              "  {'date': '2019',\n",
              "   'label': '2019',\n",
              "   'month': '',\n",
              "   'quarter': '',\n",
              "   'sourceDataset': 'BB',\n",
              "   'updateDate': '2022-10-31T00:00:00.000Z',\n",
              "   'value': '13036',\n",
              "   'year': '2019'},\n",
              "  {'date': '2020',\n",
              "   'label': '2020',\n",
              "   'month': '',\n",
              "   'quarter': '',\n",
              "   'sourceDataset': 'BB',\n",
              "   'updateDate': '2022-10-31T00:00:00.000Z',\n",
              "   'value': '11615',\n",
              "   'year': '2020'}]}"
            ]
          },
          "metadata": {},
          "execution_count": 6
        }
      ]
    },
    {
      "cell_type": "code",
      "source": [],
      "metadata": {
        "id": "CQWHzH14XZfr"
      },
      "execution_count": null,
      "outputs": []
    },
    {
      "cell_type": "code",
      "source": [
        "#set the filename and check it\n",
        "fileName = \"Wk5_ONS-k8au.json\"\n",
        "\n",
        "print(fileName)\n",
        "\n",
        "with open(fileName, 'w', encoding='utf-8') as f:\n",
        "  json.dump(data, f, ensure_ascii=False, indent=4)\n",
        "\n",
        "files.download('Wk5_ONS-k8au.json')"
      ],
      "metadata": {
        "colab": {
          "base_uri": "https://localhost:8080/",
          "height": 35
        },
        "id": "wgGHAMv5WcZH",
        "outputId": "8f02274f-a0bc-4b55-b237-2ecf9ea7c768"
      },
      "execution_count": 9,
      "outputs": [
        {
          "output_type": "stream",
          "name": "stdout",
          "text": [
            "Wk5_ONS-k8au.json\n"
          ]
        },
        {
          "output_type": "display_data",
          "data": {
            "text/plain": [
              "<IPython.core.display.Javascript object>"
            ],
            "application/javascript": [
              "\n",
              "    async function download(id, filename, size) {\n",
              "      if (!google.colab.kernel.accessAllowed) {\n",
              "        return;\n",
              "      }\n",
              "      const div = document.createElement('div');\n",
              "      const label = document.createElement('label');\n",
              "      label.textContent = `Downloading \"${filename}\": `;\n",
              "      div.appendChild(label);\n",
              "      const progress = document.createElement('progress');\n",
              "      progress.max = size;\n",
              "      div.appendChild(progress);\n",
              "      document.body.appendChild(div);\n",
              "\n",
              "      const buffers = [];\n",
              "      let downloaded = 0;\n",
              "\n",
              "      const channel = await google.colab.kernel.comms.open(id);\n",
              "      // Send a message to notify the kernel that we're ready.\n",
              "      channel.send({})\n",
              "\n",
              "      for await (const message of channel.messages) {\n",
              "        // Send a message to notify the kernel that we're ready.\n",
              "        channel.send({})\n",
              "        if (message.buffers) {\n",
              "          for (const buffer of message.buffers) {\n",
              "            buffers.push(buffer);\n",
              "            downloaded += buffer.byteLength;\n",
              "            progress.value = downloaded;\n",
              "          }\n",
              "        }\n",
              "      }\n",
              "      const blob = new Blob(buffers, {type: 'application/binary'});\n",
              "      const a = document.createElement('a');\n",
              "      a.href = window.URL.createObjectURL(blob);\n",
              "      a.download = filename;\n",
              "      div.appendChild(a);\n",
              "      a.click();\n",
              "      div.remove();\n",
              "    }\n",
              "  "
            ]
          },
          "metadata": {}
        },
        {
          "output_type": "display_data",
          "data": {
            "text/plain": [
              "<IPython.core.display.Javascript object>"
            ],
            "application/javascript": [
              "download(\"download_5ef9e93f-f726-447e-8349-f37552d7ae39\", \"Wk5_ONS-k8au.json\", 11263)"
            ]
          },
          "metadata": {}
        }
      ]
    },
    {
      "cell_type": "code",
      "source": [
        "#base file url\n",
        "url_base = \"https://api.ons.gov.uk/timeseries/{}/dataset/bb/data\"\n",
        "\n",
        "#the base file name:\n",
        "file_base = \"Wk5_ONS-{}.json\"\n",
        "\n",
        "#series\n",
        "ONSSeries = ['k8au','k8as','k8ar','k8b4','fs9r','fs9s','fs9t','k8aq','k8av']\n",
        "#Begin a loop, dealing with each series, one by one:\n",
        "for i in ONSSeries:\n",
        "\n",
        "  #Print the iteration of the loop we are on - not necessary but helpful with long loops \n",
        "  print(\"----- Iteration Starts -----\")\n",
        "  print(i)\n",
        "\n",
        "  #Build the URL for this iteration of the loop and check what we are getting \n",
        "  URL = url_base.format(i)\n",
        "  print(URL)\n",
        "\n",
        "  #Request the html from the URL:\n",
        "  data = requests.get(URL).json()\n",
        "  print(data)\n",
        "\n",
        "  #Set the file name and check what we are getting \n",
        "  fileName= file_base.format(i)\n",
        "  print(fileName)\n",
        "\n",
        "\n",
        "  #Add some white space to our output - so we can see what happens clearly \n",
        "  print(\"-----Iteration Ends-----\")\n",
        "\n",
        "  #Save the file:\n",
        "  with open(fileName, 'w', encoding='utf-8') as f:\n",
        "     json.dump(data, f, ensure_ascii=False, indent=4)\n",
        "\n",
        "  #Download the file to local machine:\n",
        "  files.download(fileName)\n",
        "\n",
        "\n"
      ],
      "metadata": {
        "colab": {
          "base_uri": "https://localhost:8080/",
          "height": 1000
        },
        "id": "DsilGs0EXj7U",
        "outputId": "264dcbc4-91f4-4cd5-c1d7-60b38b6fd2ca"
      },
      "execution_count": 12,
      "outputs": [
        {
          "output_type": "stream",
          "name": "stdout",
          "text": [
            "----- Iteration Starts -----\n",
            "k8au\n",
            "https://api.ons.gov.uk/timeseries/k8au/dataset/bb/data\n",
            "{'description': {'cdid': 'K8AU', 'contact': {'email': 'blue.book.coordination@ons.gov.uk  ', 'name': 'Claire Evans', 'telephone': '+44 1633 456545'}, 'datasetId': 'BB', 'datasetUri': '/economy/grossdomesticproductgdp/datasets/bluebook', 'date': '2020', 'nextRelease': 'October 2023', 'number': '11615', 'preUnit': '', 'releaseDate': '2022-10-31T00:00:00.000Z', 'sampleSize': '0', 'source': '', 'title': 'Air emissions All greenhouse gases-Construction-Thousand tonnes CO2 equivalent', 'unit': ''}, 'months': [], 'quarters': [], 'relatedDatasets': [{'uri': '/economy/grossdomesticproductgdp/datasets/bluebook'}], 'relatedDocuments': [{'uri': '/economy/grossdomesticproductgdp/compendium/unitedkingdomnationalaccountsthebluebook/latest'}], 'sourceDatasets': [], 'type': 'timeseries', 'uri': '/economy/grossdomesticproductgdp/timeseries/k8au/bb', 'versions': [{'correctionNotice': '', 'label': 'v1', 'updateDate': '2016-07-29T08:30:00.000Z', 'uri': '/economy/grossdomesticproductgdp/timeseries/k8au/bb/previous/v1'}, {'correctionNotice': '', 'label': 'v2', 'updateDate': '2017-10-31T09:30:00.000Z', 'uri': '/economy/grossdomesticproductgdp/timeseries/k8au/bb/previous/v2'}, {'correctionNotice': '', 'label': 'v3', 'updateDate': '2018-07-31T08:30:00.000Z', 'uri': '/economy/grossdomesticproductgdp/timeseries/k8au/bb/previous/v3'}, {'correctionNotice': '', 'label': 'v4', 'updateDate': '2019-10-31T09:30:00.000Z', 'uri': '/economy/grossdomesticproductgdp/timeseries/k8au/bb/previous/v4'}, {'correctionNotice': '', 'label': 'v5', 'updateDate': '2020-11-02T11:01:02.615Z', 'uri': '/economy/grossdomesticproductgdp/timeseries/k8au/bb/previous/v5'}, {'correctionNotice': '', 'label': 'v6', 'updateDate': '2021-10-29T08:30:00.000Z', 'uri': '/economy/grossdomesticproductgdp/timeseries/k8au/bb/previous/v6'}, {'correctionNotice': '', 'label': 'v7', 'updateDate': '2022-10-31T09:30:00.000Z', 'uri': '/economy/grossdomesticproductgdp/timeseries/k8au/bb/previous/v7'}], 'years': [{'date': '1990', 'label': '1990', 'month': '', 'quarter': '', 'sourceDataset': 'BB', 'updateDate': '2022-10-31T00:00:00.000Z', 'value': '9442', 'year': '1990'}, {'date': '1991', 'label': '1991', 'month': '', 'quarter': '', 'sourceDataset': 'BB', 'updateDate': '2022-10-31T00:00:00.000Z', 'value': '9410', 'year': '1991'}, {'date': '1992', 'label': '1992', 'month': '', 'quarter': '', 'sourceDataset': 'BB', 'updateDate': '2022-10-31T00:00:00.000Z', 'value': '9505', 'year': '1992'}, {'date': '1993', 'label': '1993', 'month': '', 'quarter': '', 'sourceDataset': 'BB', 'updateDate': '2022-10-31T00:00:00.000Z', 'value': '9623', 'year': '1993'}, {'date': '1994', 'label': '1994', 'month': '', 'quarter': '', 'sourceDataset': 'BB', 'updateDate': '2022-10-31T00:00:00.000Z', 'value': '10048', 'year': '1994'}, {'date': '1995', 'label': '1995', 'month': '', 'quarter': '', 'sourceDataset': 'BB', 'updateDate': '2022-10-31T00:00:00.000Z', 'value': '10157', 'year': '1995'}, {'date': '1996', 'label': '1996', 'month': '', 'quarter': '', 'sourceDataset': 'BB', 'updateDate': '2022-10-31T00:00:00.000Z', 'value': '10430', 'year': '1996'}, {'date': '1997', 'label': '1997', 'month': '', 'quarter': '', 'sourceDataset': 'BB', 'updateDate': '2022-10-31T00:00:00.000Z', 'value': '10682', 'year': '1997'}, {'date': '1998', 'label': '1998', 'month': '', 'quarter': '', 'sourceDataset': 'BB', 'updateDate': '2022-10-31T00:00:00.000Z', 'value': '10939', 'year': '1998'}, {'date': '1999', 'label': '1999', 'month': '', 'quarter': '', 'sourceDataset': 'BB', 'updateDate': '2022-10-31T00:00:00.000Z', 'value': '11198', 'year': '1999'}, {'date': '2000', 'label': '2000', 'month': '', 'quarter': '', 'sourceDataset': 'BB', 'updateDate': '2022-10-31T00:00:00.000Z', 'value': '11400', 'year': '2000'}, {'date': '2001', 'label': '2001', 'month': '', 'quarter': '', 'sourceDataset': 'BB', 'updateDate': '2022-10-31T00:00:00.000Z', 'value': '11719', 'year': '2001'}, {'date': '2002', 'label': '2002', 'month': '', 'quarter': '', 'sourceDataset': 'BB', 'updateDate': '2022-10-31T00:00:00.000Z', 'value': '11797', 'year': '2002'}, {'date': '2003', 'label': '2003', 'month': '', 'quarter': '', 'sourceDataset': 'BB', 'updateDate': '2022-10-31T00:00:00.000Z', 'value': '12045', 'year': '2003'}, {'date': '2004', 'label': '2004', 'month': '', 'quarter': '', 'sourceDataset': 'BB', 'updateDate': '2022-10-31T00:00:00.000Z', 'value': '12613', 'year': '2004'}, {'date': '2005', 'label': '2005', 'month': '', 'quarter': '', 'sourceDataset': 'BB', 'updateDate': '2022-10-31T00:00:00.000Z', 'value': '12668', 'year': '2005'}, {'date': '2006', 'label': '2006', 'month': '', 'quarter': '', 'sourceDataset': 'BB', 'updateDate': '2022-10-31T00:00:00.000Z', 'value': '12915', 'year': '2006'}, {'date': '2007', 'label': '2007', 'month': '', 'quarter': '', 'sourceDataset': 'BB', 'updateDate': '2022-10-31T00:00:00.000Z', 'value': '13294', 'year': '2007'}, {'date': '2008', 'label': '2008', 'month': '', 'quarter': '', 'sourceDataset': 'BB', 'updateDate': '2022-10-31T00:00:00.000Z', 'value': '13496', 'year': '2008'}, {'date': '2009', 'label': '2009', 'month': '', 'quarter': '', 'sourceDataset': 'BB', 'updateDate': '2022-10-31T00:00:00.000Z', 'value': '11908', 'year': '2009'}, {'date': '2010', 'label': '2010', 'month': '', 'quarter': '', 'sourceDataset': 'BB', 'updateDate': '2022-10-31T00:00:00.000Z', 'value': '11988', 'year': '2010'}, {'date': '2011', 'label': '2011', 'month': '', 'quarter': '', 'sourceDataset': 'BB', 'updateDate': '2022-10-31T00:00:00.000Z', 'value': '11353', 'year': '2011'}, {'date': '2012', 'label': '2012', 'month': '', 'quarter': '', 'sourceDataset': 'BB', 'updateDate': '2022-10-31T00:00:00.000Z', 'value': '11963', 'year': '2012'}, {'date': '2013', 'label': '2013', 'month': '', 'quarter': '', 'sourceDataset': 'BB', 'updateDate': '2022-10-31T00:00:00.000Z', 'value': '11144', 'year': '2013'}, {'date': '2014', 'label': '2014', 'month': '', 'quarter': '', 'sourceDataset': 'BB', 'updateDate': '2022-10-31T00:00:00.000Z', 'value': '11578', 'year': '2014'}, {'date': '2015', 'label': '2015', 'month': '', 'quarter': '', 'sourceDataset': 'BB', 'updateDate': '2022-10-31T00:00:00.000Z', 'value': '12567', 'year': '2015'}, {'date': '2016', 'label': '2016', 'month': '', 'quarter': '', 'sourceDataset': 'BB', 'updateDate': '2022-10-31T00:00:00.000Z', 'value': '12998', 'year': '2016'}, {'date': '2017', 'label': '2017', 'month': '', 'quarter': '', 'sourceDataset': 'BB', 'updateDate': '2022-10-31T00:00:00.000Z', 'value': '13473', 'year': '2017'}, {'date': '2018', 'label': '2018', 'month': '', 'quarter': '', 'sourceDataset': 'BB', 'updateDate': '2022-10-31T00:00:00.000Z', 'value': '13669', 'year': '2018'}, {'date': '2019', 'label': '2019', 'month': '', 'quarter': '', 'sourceDataset': 'BB', 'updateDate': '2022-10-31T00:00:00.000Z', 'value': '13036', 'year': '2019'}, {'date': '2020', 'label': '2020', 'month': '', 'quarter': '', 'sourceDataset': 'BB', 'updateDate': '2022-10-31T00:00:00.000Z', 'value': '11615', 'year': '2020'}]}\n",
            "Wk5_ONS-k8au.json\n",
            "-----Iteration Ends-----\n"
          ]
        },
        {
          "output_type": "display_data",
          "data": {
            "text/plain": [
              "<IPython.core.display.Javascript object>"
            ],
            "application/javascript": [
              "\n",
              "    async function download(id, filename, size) {\n",
              "      if (!google.colab.kernel.accessAllowed) {\n",
              "        return;\n",
              "      }\n",
              "      const div = document.createElement('div');\n",
              "      const label = document.createElement('label');\n",
              "      label.textContent = `Downloading \"${filename}\": `;\n",
              "      div.appendChild(label);\n",
              "      const progress = document.createElement('progress');\n",
              "      progress.max = size;\n",
              "      div.appendChild(progress);\n",
              "      document.body.appendChild(div);\n",
              "\n",
              "      const buffers = [];\n",
              "      let downloaded = 0;\n",
              "\n",
              "      const channel = await google.colab.kernel.comms.open(id);\n",
              "      // Send a message to notify the kernel that we're ready.\n",
              "      channel.send({})\n",
              "\n",
              "      for await (const message of channel.messages) {\n",
              "        // Send a message to notify the kernel that we're ready.\n",
              "        channel.send({})\n",
              "        if (message.buffers) {\n",
              "          for (const buffer of message.buffers) {\n",
              "            buffers.push(buffer);\n",
              "            downloaded += buffer.byteLength;\n",
              "            progress.value = downloaded;\n",
              "          }\n",
              "        }\n",
              "      }\n",
              "      const blob = new Blob(buffers, {type: 'application/binary'});\n",
              "      const a = document.createElement('a');\n",
              "      a.href = window.URL.createObjectURL(blob);\n",
              "      a.download = filename;\n",
              "      div.appendChild(a);\n",
              "      a.click();\n",
              "      div.remove();\n",
              "    }\n",
              "  "
            ]
          },
          "metadata": {}
        },
        {
          "output_type": "display_data",
          "data": {
            "text/plain": [
              "<IPython.core.display.Javascript object>"
            ],
            "application/javascript": [
              "download(\"download_2a08a30f-0efb-4b2a-ba55-036bc87801bc\", \"Wk5_ONS-k8au.json\", 11263)"
            ]
          },
          "metadata": {}
        },
        {
          "output_type": "stream",
          "name": "stdout",
          "text": [
            "----- Iteration Starts -----\n",
            "k8as\n",
            "https://api.ons.gov.uk/timeseries/k8as/dataset/bb/data\n",
            "{'description': {'cdid': 'K8AS', 'contact': {'email': 'blue.book.coordination@ons.gov.uk  ', 'name': 'Claire Evans', 'telephone': '+44 1633 456545'}, 'datasetId': 'BB', 'datasetUri': '/economy/grossdomesticproductgdp/datasets/bluebook', 'date': '2020', 'nextRelease': 'October 2023', 'number': '80439', 'preUnit': '', 'releaseDate': '2022-10-31T00:00:00.000Z', 'sampleSize': '0', 'source': '', 'title': 'Air emissions All greenhouse gases-Manufacturing-Thousand tonnes CO2 equivalent', 'unit': ''}, 'months': [], 'quarters': [], 'relatedDatasets': [{'uri': '/economy/grossdomesticproductgdp/datasets/bluebook'}], 'relatedDocuments': [{'uri': '/economy/grossdomesticproductgdp/compendium/unitedkingdomnationalaccountsthebluebook/latest'}], 'sourceDatasets': [], 'type': 'timeseries', 'uri': '/economy/grossdomesticproductgdp/timeseries/k8as/bb', 'versions': [{'correctionNotice': '', 'label': 'v1', 'updateDate': '2016-07-29T08:30:00.000Z', 'uri': '/economy/grossdomesticproductgdp/timeseries/k8as/bb/previous/v1'}, {'correctionNotice': '', 'label': 'v2', 'updateDate': '2017-10-31T09:30:00.000Z', 'uri': '/economy/grossdomesticproductgdp/timeseries/k8as/bb/previous/v2'}, {'correctionNotice': '', 'label': 'v3', 'updateDate': '2018-07-31T08:30:00.000Z', 'uri': '/economy/grossdomesticproductgdp/timeseries/k8as/bb/previous/v3'}, {'correctionNotice': '', 'label': 'v4', 'updateDate': '2019-10-31T09:30:00.000Z', 'uri': '/economy/grossdomesticproductgdp/timeseries/k8as/bb/previous/v4'}, {'correctionNotice': '', 'label': 'v5', 'updateDate': '2020-11-02T11:01:02.615Z', 'uri': '/economy/grossdomesticproductgdp/timeseries/k8as/bb/previous/v5'}, {'correctionNotice': '', 'label': 'v6', 'updateDate': '2021-10-29T08:30:00.000Z', 'uri': '/economy/grossdomesticproductgdp/timeseries/k8as/bb/previous/v6'}, {'correctionNotice': '', 'label': 'v7', 'updateDate': '2022-10-31T09:30:00.000Z', 'uri': '/economy/grossdomesticproductgdp/timeseries/k8as/bb/previous/v7'}], 'years': [{'date': '1990', 'label': '1990', 'month': '', 'quarter': '', 'sourceDataset': 'BB', 'updateDate': '2022-10-31T00:00:00.000Z', 'value': '180563', 'year': '1990'}, {'date': '1991', 'label': '1991', 'month': '', 'quarter': '', 'sourceDataset': 'BB', 'updateDate': '2022-10-31T00:00:00.000Z', 'value': '181615', 'year': '1991'}, {'date': '1992', 'label': '1992', 'month': '', 'quarter': '', 'sourceDataset': 'BB', 'updateDate': '2022-10-31T00:00:00.000Z', 'value': '174343', 'year': '1992'}, {'date': '1993', 'label': '1993', 'month': '', 'quarter': '', 'sourceDataset': 'BB', 'updateDate': '2022-10-31T00:00:00.000Z', 'value': '168704', 'year': '1993'}, {'date': '1994', 'label': '1994', 'month': '', 'quarter': '', 'sourceDataset': 'BB', 'updateDate': '2022-10-31T00:00:00.000Z', 'value': '171408', 'year': '1994'}, {'date': '1995', 'label': '1995', 'month': '', 'quarter': '', 'sourceDataset': 'BB', 'updateDate': '2022-10-31T00:00:00.000Z', 'value': '169367', 'year': '1995'}, {'date': '1996', 'label': '1996', 'month': '', 'quarter': '', 'sourceDataset': 'BB', 'updateDate': '2022-10-31T00:00:00.000Z', 'value': '170747', 'year': '1996'}, {'date': '1997', 'label': '1997', 'month': '', 'quarter': '', 'sourceDataset': 'BB', 'updateDate': '2022-10-31T00:00:00.000Z', 'value': '169530', 'year': '1997'}, {'date': '1998', 'label': '1998', 'month': '', 'quarter': '', 'sourceDataset': 'BB', 'updateDate': '2022-10-31T00:00:00.000Z', 'value': '160536', 'year': '1998'}, {'date': '1999', 'label': '1999', 'month': '', 'quarter': '', 'sourceDataset': 'BB', 'updateDate': '2022-10-31T00:00:00.000Z', 'value': '144288', 'year': '1999'}, {'date': '2000', 'label': '2000', 'month': '', 'quarter': '', 'sourceDataset': 'BB', 'updateDate': '2022-10-31T00:00:00.000Z', 'value': '138846', 'year': '2000'}, {'date': '2001', 'label': '2001', 'month': '', 'quarter': '', 'sourceDataset': 'BB', 'updateDate': '2022-10-31T00:00:00.000Z', 'value': '132274', 'year': '2001'}, {'date': '2002', 'label': '2002', 'month': '', 'quarter': '', 'sourceDataset': 'BB', 'updateDate': '2022-10-31T00:00:00.000Z', 'value': '123980', 'year': '2002'}, {'date': '2003', 'label': '2003', 'month': '', 'quarter': '', 'sourceDataset': 'BB', 'updateDate': '2022-10-31T00:00:00.000Z', 'value': '126829', 'year': '2003'}, {'date': '2004', 'label': '2004', 'month': '', 'quarter': '', 'sourceDataset': 'BB', 'updateDate': '2022-10-31T00:00:00.000Z', 'value': '125522', 'year': '2004'}, {'date': '2005', 'label': '2005', 'month': '', 'quarter': '', 'sourceDataset': 'BB', 'updateDate': '2022-10-31T00:00:00.000Z', 'value': '124940', 'year': '2005'}, {'date': '2006', 'label': '2006', 'month': '', 'quarter': '', 'sourceDataset': 'BB', 'updateDate': '2022-10-31T00:00:00.000Z', 'value': '120427', 'year': '2006'}, {'date': '2007', 'label': '2007', 'month': '', 'quarter': '', 'sourceDataset': 'BB', 'updateDate': '2022-10-31T00:00:00.000Z', 'value': '119905', 'year': '2007'}, {'date': '2008', 'label': '2008', 'month': '', 'quarter': '', 'sourceDataset': 'BB', 'updateDate': '2022-10-31T00:00:00.000Z', 'value': '111868', 'year': '2008'}, {'date': '2009', 'label': '2009', 'month': '', 'quarter': '', 'sourceDataset': 'BB', 'updateDate': '2022-10-31T00:00:00.000Z', 'value': '94469', 'year': '2009'}, {'date': '2010', 'label': '2010', 'month': '', 'quarter': '', 'sourceDataset': 'BB', 'updateDate': '2022-10-31T00:00:00.000Z', 'value': '97654', 'year': '2010'}, {'date': '2011', 'label': '2011', 'month': '', 'quarter': '', 'sourceDataset': 'BB', 'updateDate': '2022-10-31T00:00:00.000Z', 'value': '93410', 'year': '2011'}, {'date': '2012', 'label': '2012', 'month': '', 'quarter': '', 'sourceDataset': 'BB', 'updateDate': '2022-10-31T00:00:00.000Z', 'value': '89820', 'year': '2012'}, {'date': '2013', 'label': '2013', 'month': '', 'quarter': '', 'sourceDataset': 'BB', 'updateDate': '2022-10-31T00:00:00.000Z', 'value': '92374', 'year': '2013'}, {'date': '2014', 'label': '2014', 'month': '', 'quarter': '', 'sourceDataset': 'BB', 'updateDate': '2022-10-31T00:00:00.000Z', 'value': '91889', 'year': '2014'}, {'date': '2015', 'label': '2015', 'month': '', 'quarter': '', 'sourceDataset': 'BB', 'updateDate': '2022-10-31T00:00:00.000Z', 'value': '89109', 'year': '2015'}, {'date': '2016', 'label': '2016', 'month': '', 'quarter': '', 'sourceDataset': 'BB', 'updateDate': '2022-10-31T00:00:00.000Z', 'value': '84379', 'year': '2016'}, {'date': '2017', 'label': '2017', 'month': '', 'quarter': '', 'sourceDataset': 'BB', 'updateDate': '2022-10-31T00:00:00.000Z', 'value': '85540', 'year': '2017'}, {'date': '2018', 'label': '2018', 'month': '', 'quarter': '', 'sourceDataset': 'BB', 'updateDate': '2022-10-31T00:00:00.000Z', 'value': '84643', 'year': '2018'}, {'date': '2019', 'label': '2019', 'month': '', 'quarter': '', 'sourceDataset': 'BB', 'updateDate': '2022-10-31T00:00:00.000Z', 'value': '82997', 'year': '2019'}, {'date': '2020', 'label': '2020', 'month': '', 'quarter': '', 'sourceDataset': 'BB', 'updateDate': '2022-10-31T00:00:00.000Z', 'value': '80439', 'year': '2020'}]}\n",
            "Wk5_ONS-k8as.json\n",
            "-----Iteration Ends-----\n"
          ]
        },
        {
          "output_type": "display_data",
          "data": {
            "text/plain": [
              "<IPython.core.display.Javascript object>"
            ],
            "application/javascript": [
              "\n",
              "    async function download(id, filename, size) {\n",
              "      if (!google.colab.kernel.accessAllowed) {\n",
              "        return;\n",
              "      }\n",
              "      const div = document.createElement('div');\n",
              "      const label = document.createElement('label');\n",
              "      label.textContent = `Downloading \"${filename}\": `;\n",
              "      div.appendChild(label);\n",
              "      const progress = document.createElement('progress');\n",
              "      progress.max = size;\n",
              "      div.appendChild(progress);\n",
              "      document.body.appendChild(div);\n",
              "\n",
              "      const buffers = [];\n",
              "      let downloaded = 0;\n",
              "\n",
              "      const channel = await google.colab.kernel.comms.open(id);\n",
              "      // Send a message to notify the kernel that we're ready.\n",
              "      channel.send({})\n",
              "\n",
              "      for await (const message of channel.messages) {\n",
              "        // Send a message to notify the kernel that we're ready.\n",
              "        channel.send({})\n",
              "        if (message.buffers) {\n",
              "          for (const buffer of message.buffers) {\n",
              "            buffers.push(buffer);\n",
              "            downloaded += buffer.byteLength;\n",
              "            progress.value = downloaded;\n",
              "          }\n",
              "        }\n",
              "      }\n",
              "      const blob = new Blob(buffers, {type: 'application/binary'});\n",
              "      const a = document.createElement('a');\n",
              "      a.href = window.URL.createObjectURL(blob);\n",
              "      a.download = filename;\n",
              "      div.appendChild(a);\n",
              "      a.click();\n",
              "      div.remove();\n",
              "    }\n",
              "  "
            ]
          },
          "metadata": {}
        },
        {
          "output_type": "display_data",
          "data": {
            "text/plain": [
              "<IPython.core.display.Javascript object>"
            ],
            "application/javascript": [
              "download(\"download_bb87554a-e995-4d3b-9f28-1a349e860410\", \"Wk5_ONS-k8as.json\", 11287)"
            ]
          },
          "metadata": {}
        },
        {
          "output_type": "stream",
          "name": "stdout",
          "text": [
            "----- Iteration Starts -----\n",
            "k8ar\n",
            "https://api.ons.gov.uk/timeseries/k8ar/dataset/bb/data\n",
            "{'description': {'cdid': 'K8AR', 'contact': {'email': 'blue.book.coordination@ons.gov.uk  ', 'name': 'Claire Evans', 'telephone': '+44 1633 456545'}, 'datasetId': 'BB', 'datasetUri': '/economy/grossdomesticproductgdp/datasets/bluebook', 'date': '2020', 'nextRelease': 'October 2023', 'number': '18620', 'preUnit': '', 'releaseDate': '2022-10-31T00:00:00.000Z', 'sampleSize': '0', 'source': '', 'title': 'Air emissions All greenhouse gases-Mining and quarrying-Thousand tonnes CO2 equivalent', 'unit': ''}, 'months': [], 'quarters': [], 'relatedDatasets': [{'uri': '/economy/grossdomesticproductgdp/datasets/bluebook'}], 'relatedDocuments': [{'uri': '/economy/grossdomesticproductgdp/compendium/unitedkingdomnationalaccountsthebluebook/latest'}], 'sourceDatasets': [], 'type': 'timeseries', 'uri': '/economy/grossdomesticproductgdp/timeseries/k8ar/bb', 'versions': [{'correctionNotice': '', 'label': 'v1', 'updateDate': '2016-07-29T08:30:00.000Z', 'uri': '/economy/grossdomesticproductgdp/timeseries/k8ar/bb/previous/v1'}, {'correctionNotice': '', 'label': 'v2', 'updateDate': '2017-10-31T09:30:00.000Z', 'uri': '/economy/grossdomesticproductgdp/timeseries/k8ar/bb/previous/v2'}, {'correctionNotice': '', 'label': 'v3', 'updateDate': '2018-07-31T08:30:00.000Z', 'uri': '/economy/grossdomesticproductgdp/timeseries/k8ar/bb/previous/v3'}, {'correctionNotice': '', 'label': 'v4', 'updateDate': '2019-10-31T09:30:00.000Z', 'uri': '/economy/grossdomesticproductgdp/timeseries/k8ar/bb/previous/v4'}, {'correctionNotice': '', 'label': 'v5', 'updateDate': '2020-11-02T11:01:02.615Z', 'uri': '/economy/grossdomesticproductgdp/timeseries/k8ar/bb/previous/v5'}, {'correctionNotice': '', 'label': 'v6', 'updateDate': '2021-10-29T08:30:00.000Z', 'uri': '/economy/grossdomesticproductgdp/timeseries/k8ar/bb/previous/v6'}, {'correctionNotice': '', 'label': 'v7', 'updateDate': '2022-10-31T09:30:00.000Z', 'uri': '/economy/grossdomesticproductgdp/timeseries/k8ar/bb/previous/v7'}], 'years': [{'date': '1990', 'label': '1990', 'month': '', 'quarter': '', 'sourceDataset': 'BB', 'updateDate': '2022-10-31T00:00:00.000Z', 'value': '48694', 'year': '1990'}, {'date': '1991', 'label': '1991', 'month': '', 'quarter': '', 'sourceDataset': 'BB', 'updateDate': '2022-10-31T00:00:00.000Z', 'value': '48707', 'year': '1991'}, {'date': '1992', 'label': '1992', 'month': '', 'quarter': '', 'sourceDataset': 'BB', 'updateDate': '2022-10-31T00:00:00.000Z', 'value': '49331', 'year': '1992'}, {'date': '1993', 'label': '1993', 'month': '', 'quarter': '', 'sourceDataset': 'BB', 'updateDate': '2022-10-31T00:00:00.000Z', 'value': '49142', 'year': '1993'}, {'date': '1994', 'label': '1994', 'month': '', 'quarter': '', 'sourceDataset': 'BB', 'updateDate': '2022-10-31T00:00:00.000Z', 'value': '43789', 'year': '1994'}, {'date': '1995', 'label': '1995', 'month': '', 'quarter': '', 'sourceDataset': 'BB', 'updateDate': '2022-10-31T00:00:00.000Z', 'value': '45512', 'year': '1995'}, {'date': '1996', 'label': '1996', 'month': '', 'quarter': '', 'sourceDataset': 'BB', 'updateDate': '2022-10-31T00:00:00.000Z', 'value': '45809', 'year': '1996'}, {'date': '1997', 'label': '1997', 'month': '', 'quarter': '', 'sourceDataset': 'BB', 'updateDate': '2022-10-31T00:00:00.000Z', 'value': '44971', 'year': '1997'}, {'date': '1998', 'label': '1998', 'month': '', 'quarter': '', 'sourceDataset': 'BB', 'updateDate': '2022-10-31T00:00:00.000Z', 'value': '43786', 'year': '1998'}, {'date': '1999', 'label': '1999', 'month': '', 'quarter': '', 'sourceDataset': 'BB', 'updateDate': '2022-10-31T00:00:00.000Z', 'value': '40140', 'year': '1999'}, {'date': '2000', 'label': '2000', 'month': '', 'quarter': '', 'sourceDataset': 'BB', 'updateDate': '2022-10-31T00:00:00.000Z', 'value': '38103', 'year': '2000'}, {'date': '2001', 'label': '2001', 'month': '', 'quarter': '', 'sourceDataset': 'BB', 'updateDate': '2022-10-31T00:00:00.000Z', 'value': '38066', 'year': '2001'}, {'date': '2002', 'label': '2002', 'month': '', 'quarter': '', 'sourceDataset': 'BB', 'updateDate': '2022-10-31T00:00:00.000Z', 'value': '36529', 'year': '2002'}, {'date': '2003', 'label': '2003', 'month': '', 'quarter': '', 'sourceDataset': 'BB', 'updateDate': '2022-10-31T00:00:00.000Z', 'value': '33928', 'year': '2003'}, {'date': '2004', 'label': '2004', 'month': '', 'quarter': '', 'sourceDataset': 'BB', 'updateDate': '2022-10-31T00:00:00.000Z', 'value': '32737', 'year': '2004'}, {'date': '2005', 'label': '2005', 'month': '', 'quarter': '', 'sourceDataset': 'BB', 'updateDate': '2022-10-31T00:00:00.000Z', 'value': '30701', 'year': '2005'}, {'date': '2006', 'label': '2006', 'month': '', 'quarter': '', 'sourceDataset': 'BB', 'updateDate': '2022-10-31T00:00:00.000Z', 'value': '28245', 'year': '2006'}, {'date': '2007', 'label': '2007', 'month': '', 'quarter': '', 'sourceDataset': 'BB', 'updateDate': '2022-10-31T00:00:00.000Z', 'value': '27702', 'year': '2007'}, {'date': '2008', 'label': '2008', 'month': '', 'quarter': '', 'sourceDataset': 'BB', 'updateDate': '2022-10-31T00:00:00.000Z', 'value': '26968', 'year': '2008'}, {'date': '2009', 'label': '2009', 'month': '', 'quarter': '', 'sourceDataset': 'BB', 'updateDate': '2022-10-31T00:00:00.000Z', 'value': '26866', 'year': '2009'}, {'date': '2010', 'label': '2010', 'month': '', 'quarter': '', 'sourceDataset': 'BB', 'updateDate': '2022-10-31T00:00:00.000Z', 'value': '26291', 'year': '2010'}, {'date': '2011', 'label': '2011', 'month': '', 'quarter': '', 'sourceDataset': 'BB', 'updateDate': '2022-10-31T00:00:00.000Z', 'value': '23694', 'year': '2011'}, {'date': '2012', 'label': '2012', 'month': '', 'quarter': '', 'sourceDataset': 'BB', 'updateDate': '2022-10-31T00:00:00.000Z', 'value': '21941', 'year': '2012'}, {'date': '2013', 'label': '2013', 'month': '', 'quarter': '', 'sourceDataset': 'BB', 'updateDate': '2022-10-31T00:00:00.000Z', 'value': '20645', 'year': '2013'}, {'date': '2014', 'label': '2014', 'month': '', 'quarter': '', 'sourceDataset': 'BB', 'updateDate': '2022-10-31T00:00:00.000Z', 'value': '20582', 'year': '2014'}, {'date': '2015', 'label': '2015', 'month': '', 'quarter': '', 'sourceDataset': 'BB', 'updateDate': '2022-10-31T00:00:00.000Z', 'value': '21938', 'year': '2015'}, {'date': '2016', 'label': '2016', 'month': '', 'quarter': '', 'sourceDataset': 'BB', 'updateDate': '2022-10-31T00:00:00.000Z', 'value': '20897', 'year': '2016'}, {'date': '2017', 'label': '2017', 'month': '', 'quarter': '', 'sourceDataset': 'BB', 'updateDate': '2022-10-31T00:00:00.000Z', 'value': '20902', 'year': '2017'}, {'date': '2018', 'label': '2018', 'month': '', 'quarter': '', 'sourceDataset': 'BB', 'updateDate': '2022-10-31T00:00:00.000Z', 'value': '20699', 'year': '2018'}, {'date': '2019', 'label': '2019', 'month': '', 'quarter': '', 'sourceDataset': 'BB', 'updateDate': '2022-10-31T00:00:00.000Z', 'value': '20437', 'year': '2019'}, {'date': '2020', 'label': '2020', 'month': '', 'quarter': '', 'sourceDataset': 'BB', 'updateDate': '2022-10-31T00:00:00.000Z', 'value': '18620', 'year': '2020'}]}\n",
            "Wk5_ONS-k8ar.json\n",
            "-----Iteration Ends-----\n"
          ]
        },
        {
          "output_type": "display_data",
          "data": {
            "text/plain": [
              "<IPython.core.display.Javascript object>"
            ],
            "application/javascript": [
              "\n",
              "    async function download(id, filename, size) {\n",
              "      if (!google.colab.kernel.accessAllowed) {\n",
              "        return;\n",
              "      }\n",
              "      const div = document.createElement('div');\n",
              "      const label = document.createElement('label');\n",
              "      label.textContent = `Downloading \"${filename}\": `;\n",
              "      div.appendChild(label);\n",
              "      const progress = document.createElement('progress');\n",
              "      progress.max = size;\n",
              "      div.appendChild(progress);\n",
              "      document.body.appendChild(div);\n",
              "\n",
              "      const buffers = [];\n",
              "      let downloaded = 0;\n",
              "\n",
              "      const channel = await google.colab.kernel.comms.open(id);\n",
              "      // Send a message to notify the kernel that we're ready.\n",
              "      channel.send({})\n",
              "\n",
              "      for await (const message of channel.messages) {\n",
              "        // Send a message to notify the kernel that we're ready.\n",
              "        channel.send({})\n",
              "        if (message.buffers) {\n",
              "          for (const buffer of message.buffers) {\n",
              "            buffers.push(buffer);\n",
              "            downloaded += buffer.byteLength;\n",
              "            progress.value = downloaded;\n",
              "          }\n",
              "        }\n",
              "      }\n",
              "      const blob = new Blob(buffers, {type: 'application/binary'});\n",
              "      const a = document.createElement('a');\n",
              "      a.href = window.URL.createObjectURL(blob);\n",
              "      a.download = filename;\n",
              "      div.appendChild(a);\n",
              "      a.click();\n",
              "      div.remove();\n",
              "    }\n",
              "  "
            ]
          },
          "metadata": {}
        },
        {
          "output_type": "display_data",
          "data": {
            "text/plain": [
              "<IPython.core.display.Javascript object>"
            ],
            "application/javascript": [
              "download(\"download_5d4d14ee-564f-4a2c-9103-295e12a49986\", \"Wk5_ONS-k8ar.json\", 11275)"
            ]
          },
          "metadata": {}
        },
        {
          "output_type": "stream",
          "name": "stdout",
          "text": [
            "----- Iteration Starts -----\n",
            "k8b4\n",
            "https://api.ons.gov.uk/timeseries/k8b4/dataset/bb/data\n",
            "{'description': {'cdid': 'K8B4', 'contact': {'email': 'blue.book.coordination@ons.gov.uk  ', 'name': 'Claire Evans', 'telephone': '+44 1633 456545'}, 'datasetId': 'BB', 'datasetUri': '/economy/grossdomesticproductgdp/datasets/bluebook', 'date': '2020', 'nextRelease': 'October 2023', 'number': '124767', 'preUnit': '', 'releaseDate': '2022-10-31T00:00:00.000Z', 'sampleSize': '0', 'source': '', 'title': 'Air emissions All greenhouse gases-Consumer expenditure-Thousand tonnes CO2 equivalent', 'unit': ''}, 'months': [], 'quarters': [], 'relatedDatasets': [{'uri': '/economy/grossdomesticproductgdp/datasets/bluebook'}], 'relatedDocuments': [{'uri': '/economy/grossdomesticproductgdp/compendium/unitedkingdomnationalaccountsthebluebook/latest'}], 'sourceDatasets': [], 'type': 'timeseries', 'uri': '/economy/grossdomesticproductgdp/timeseries/k8b4/bb', 'versions': [{'correctionNotice': '', 'label': 'v1', 'updateDate': '2016-07-29T08:30:00.000Z', 'uri': '/economy/grossdomesticproductgdp/timeseries/k8b4/bb/previous/v1'}, {'correctionNotice': '', 'label': 'v2', 'updateDate': '2017-10-31T09:30:00.000Z', 'uri': '/economy/grossdomesticproductgdp/timeseries/k8b4/bb/previous/v2'}, {'correctionNotice': '', 'label': 'v3', 'updateDate': '2018-07-31T08:30:00.000Z', 'uri': '/economy/grossdomesticproductgdp/timeseries/k8b4/bb/previous/v3'}, {'correctionNotice': '', 'label': 'v4', 'updateDate': '2019-10-31T09:30:00.000Z', 'uri': '/economy/grossdomesticproductgdp/timeseries/k8b4/bb/previous/v4'}, {'correctionNotice': '', 'label': 'v5', 'updateDate': '2020-11-02T11:01:02.615Z', 'uri': '/economy/grossdomesticproductgdp/timeseries/k8b4/bb/previous/v5'}, {'correctionNotice': '', 'label': 'v6', 'updateDate': '2021-10-29T08:30:00.000Z', 'uri': '/economy/grossdomesticproductgdp/timeseries/k8b4/bb/previous/v6'}, {'correctionNotice': '', 'label': 'v7', 'updateDate': '2022-10-31T09:30:00.000Z', 'uri': '/economy/grossdomesticproductgdp/timeseries/k8b4/bb/previous/v7'}], 'years': [{'date': '1990', 'label': '1990', 'month': '', 'quarter': '', 'sourceDataset': 'BB', 'updateDate': '2022-10-31T00:00:00.000Z', 'value': '142291', 'year': '1990'}, {'date': '1991', 'label': '1991', 'month': '', 'quarter': '', 'sourceDataset': 'BB', 'updateDate': '2022-10-31T00:00:00.000Z', 'value': '150801', 'year': '1991'}, {'date': '1992', 'label': '1992', 'month': '', 'quarter': '', 'sourceDataset': 'BB', 'updateDate': '2022-10-31T00:00:00.000Z', 'value': '149160', 'year': '1992'}, {'date': '1993', 'label': '1993', 'month': '', 'quarter': '', 'sourceDataset': 'BB', 'updateDate': '2022-10-31T00:00:00.000Z', 'value': '153920', 'year': '1993'}, {'date': '1994', 'label': '1994', 'month': '', 'quarter': '', 'sourceDataset': 'BB', 'updateDate': '2022-10-31T00:00:00.000Z', 'value': '148893', 'year': '1994'}, {'date': '1995', 'label': '1995', 'month': '', 'quarter': '', 'sourceDataset': 'BB', 'updateDate': '2022-10-31T00:00:00.000Z', 'value': '143597', 'year': '1995'}, {'date': '1996', 'label': '1996', 'month': '', 'quarter': '', 'sourceDataset': 'BB', 'updateDate': '2022-10-31T00:00:00.000Z', 'value': '158774', 'year': '1996'}, {'date': '1997', 'label': '1997', 'month': '', 'quarter': '', 'sourceDataset': 'BB', 'updateDate': '2022-10-31T00:00:00.000Z', 'value': '152824', 'year': '1997'}, {'date': '1998', 'label': '1998', 'month': '', 'quarter': '', 'sourceDataset': 'BB', 'updateDate': '2022-10-31T00:00:00.000Z', 'value': '154963', 'year': '1998'}, {'date': '1999', 'label': '1999', 'month': '', 'quarter': '', 'sourceDataset': 'BB', 'updateDate': '2022-10-31T00:00:00.000Z', 'value': '156148', 'year': '1999'}, {'date': '2000', 'label': '2000', 'month': '', 'quarter': '', 'sourceDataset': 'BB', 'updateDate': '2022-10-31T00:00:00.000Z', 'value': '156358', 'year': '2000'}, {'date': '2001', 'label': '2001', 'month': '', 'quarter': '', 'sourceDataset': 'BB', 'updateDate': '2022-10-31T00:00:00.000Z', 'value': '159985', 'year': '2001'}, {'date': '2002', 'label': '2002', 'month': '', 'quarter': '', 'sourceDataset': 'BB', 'updateDate': '2022-10-31T00:00:00.000Z', 'value': '159062', 'year': '2002'}, {'date': '2003', 'label': '2003', 'month': '', 'quarter': '', 'sourceDataset': 'BB', 'updateDate': '2022-10-31T00:00:00.000Z', 'value': '159102', 'year': '2003'}, {'date': '2004', 'label': '2004', 'month': '', 'quarter': '', 'sourceDataset': 'BB', 'updateDate': '2022-10-31T00:00:00.000Z', 'value': '161847', 'year': '2004'}, {'date': '2005', 'label': '2005', 'month': '', 'quarter': '', 'sourceDataset': 'BB', 'updateDate': '2022-10-31T00:00:00.000Z', 'value': '158129', 'year': '2005'}, {'date': '2006', 'label': '2006', 'month': '', 'quarter': '', 'sourceDataset': 'BB', 'updateDate': '2022-10-31T00:00:00.000Z', 'value': '155764', 'year': '2006'}, {'date': '2007', 'label': '2007', 'month': '', 'quarter': '', 'sourceDataset': 'BB', 'updateDate': '2022-10-31T00:00:00.000Z', 'value': '152232', 'year': '2007'}, {'date': '2008', 'label': '2008', 'month': '', 'quarter': '', 'sourceDataset': 'BB', 'updateDate': '2022-10-31T00:00:00.000Z', 'value': '152051', 'year': '2008'}, {'date': '2009', 'label': '2009', 'month': '', 'quarter': '', 'sourceDataset': 'BB', 'updateDate': '2022-10-31T00:00:00.000Z', 'value': '147943', 'year': '2009'}, {'date': '2010', 'label': '2010', 'month': '', 'quarter': '', 'sourceDataset': 'BB', 'updateDate': '2022-10-31T00:00:00.000Z', 'value': '156348', 'year': '2010'}, {'date': '2011', 'label': '2011', 'month': '', 'quarter': '', 'sourceDataset': 'BB', 'updateDate': '2022-10-31T00:00:00.000Z', 'value': '137956', 'year': '2011'}, {'date': '2012', 'label': '2012', 'month': '', 'quarter': '', 'sourceDataset': 'BB', 'updateDate': '2022-10-31T00:00:00.000Z', 'value': '145218', 'year': '2012'}, {'date': '2013', 'label': '2013', 'month': '', 'quarter': '', 'sourceDataset': 'BB', 'updateDate': '2022-10-31T00:00:00.000Z', 'value': '147127', 'year': '2013'}, {'date': '2014', 'label': '2014', 'month': '', 'quarter': '', 'sourceDataset': 'BB', 'updateDate': '2022-10-31T00:00:00.000Z', 'value': '134864', 'year': '2014'}, {'date': '2015', 'label': '2015', 'month': '', 'quarter': '', 'sourceDataset': 'BB', 'updateDate': '2022-10-31T00:00:00.000Z', 'value': '138767', 'year': '2015'}, {'date': '2016', 'label': '2016', 'month': '', 'quarter': '', 'sourceDataset': 'BB', 'updateDate': '2022-10-31T00:00:00.000Z', 'value': '141212', 'year': '2016'}, {'date': '2017', 'label': '2017', 'month': '', 'quarter': '', 'sourceDataset': 'BB', 'updateDate': '2022-10-31T00:00:00.000Z', 'value': '140015', 'year': '2017'}, {'date': '2018', 'label': '2018', 'month': '', 'quarter': '', 'sourceDataset': 'BB', 'updateDate': '2022-10-31T00:00:00.000Z', 'value': '142856', 'year': '2018'}, {'date': '2019', 'label': '2019', 'month': '', 'quarter': '', 'sourceDataset': 'BB', 'updateDate': '2022-10-31T00:00:00.000Z', 'value': '139846', 'year': '2019'}, {'date': '2020', 'label': '2020', 'month': '', 'quarter': '', 'sourceDataset': 'BB', 'updateDate': '2022-10-31T00:00:00.000Z', 'value': '124767', 'year': '2020'}]}\n",
            "Wk5_ONS-k8b4.json\n",
            "-----Iteration Ends-----\n"
          ]
        },
        {
          "output_type": "display_data",
          "data": {
            "text/plain": [
              "<IPython.core.display.Javascript object>"
            ],
            "application/javascript": [
              "\n",
              "    async function download(id, filename, size) {\n",
              "      if (!google.colab.kernel.accessAllowed) {\n",
              "        return;\n",
              "      }\n",
              "      const div = document.createElement('div');\n",
              "      const label = document.createElement('label');\n",
              "      label.textContent = `Downloading \"${filename}\": `;\n",
              "      div.appendChild(label);\n",
              "      const progress = document.createElement('progress');\n",
              "      progress.max = size;\n",
              "      div.appendChild(progress);\n",
              "      document.body.appendChild(div);\n",
              "\n",
              "      const buffers = [];\n",
              "      let downloaded = 0;\n",
              "\n",
              "      const channel = await google.colab.kernel.comms.open(id);\n",
              "      // Send a message to notify the kernel that we're ready.\n",
              "      channel.send({})\n",
              "\n",
              "      for await (const message of channel.messages) {\n",
              "        // Send a message to notify the kernel that we're ready.\n",
              "        channel.send({})\n",
              "        if (message.buffers) {\n",
              "          for (const buffer of message.buffers) {\n",
              "            buffers.push(buffer);\n",
              "            downloaded += buffer.byteLength;\n",
              "            progress.value = downloaded;\n",
              "          }\n",
              "        }\n",
              "      }\n",
              "      const blob = new Blob(buffers, {type: 'application/binary'});\n",
              "      const a = document.createElement('a');\n",
              "      a.href = window.URL.createObjectURL(blob);\n",
              "      a.download = filename;\n",
              "      div.appendChild(a);\n",
              "      a.click();\n",
              "      div.remove();\n",
              "    }\n",
              "  "
            ]
          },
          "metadata": {}
        },
        {
          "output_type": "display_data",
          "data": {
            "text/plain": [
              "<IPython.core.display.Javascript object>"
            ],
            "application/javascript": [
              "download(\"download_c532d81f-c95d-4ad8-b76b-051035448d8b\", \"Wk5_ONS-k8b4.json\", 11307)"
            ]
          },
          "metadata": {}
        },
        {
          "output_type": "stream",
          "name": "stdout",
          "text": [
            "----- Iteration Starts -----\n",
            "fs9r\n",
            "https://api.ons.gov.uk/timeseries/fs9r/dataset/bb/data\n",
            "{'description': {'cdid': 'FS9R', 'contact': {'email': 'blue.book.coordination@ons.gov.uk  ', 'name': 'Claire Evans', 'telephone': '+44 1633 456545'}, 'datasetId': 'BB', 'datasetUri': '/economy/grossdomesticproductgdp/datasets/bluebook', 'date': '2020', 'nextRelease': 'October 2023', 'number': '80770', 'preUnit': '', 'releaseDate': '2022-10-31T00:00:00.000Z', 'sampleSize': '0', 'source': '', 'title': 'Air emissions All greenhouse gases-Electricity, gas, steam and air conditioning supply-Thousand tonnes CO2 equivalent', 'unit': ''}, 'months': [], 'quarters': [], 'relatedDatasets': [{'uri': '/economy/grossdomesticproductgdp/datasets/bluebook'}], 'relatedDocuments': [{'uri': '/economy/grossdomesticproductgdp/compendium/unitedkingdomnationalaccountsthebluebook/latest'}], 'sourceDatasets': [], 'type': 'timeseries', 'uri': '/economy/grossdomesticproductgdp/timeseries/fs9r/bb', 'versions': [{'correctionNotice': '', 'label': 'v1', 'updateDate': '2019-10-31T09:30:00.000Z', 'uri': '/economy/grossdomesticproductgdp/timeseries/fs9r/bb/previous/v1'}, {'correctionNotice': '', 'label': 'v2', 'updateDate': '2020-11-02T11:01:02.615Z', 'uri': '/economy/grossdomesticproductgdp/timeseries/fs9r/bb/previous/v2'}, {'correctionNotice': '', 'label': 'v3', 'updateDate': '2021-10-29T08:30:00.000Z', 'uri': '/economy/grossdomesticproductgdp/timeseries/fs9r/bb/previous/v3'}, {'correctionNotice': '', 'label': 'v4', 'updateDate': '2022-10-31T09:30:00.000Z', 'uri': '/economy/grossdomesticproductgdp/timeseries/fs9r/bb/previous/v4'}], 'years': [{'date': '1990', 'label': '1990', 'month': '', 'quarter': '', 'sourceDataset': 'BB', 'updateDate': '2022-10-31T00:00:00.000Z', 'value': '216598', 'year': '1990'}, {'date': '1991', 'label': '1991', 'month': '', 'quarter': '', 'sourceDataset': 'BB', 'updateDate': '2022-10-31T00:00:00.000Z', 'value': '213316', 'year': '1991'}, {'date': '1992', 'label': '1992', 'month': '', 'quarter': '', 'sourceDataset': 'BB', 'updateDate': '2022-10-31T00:00:00.000Z', 'value': '201452', 'year': '1992'}, {'date': '1993', 'label': '1993', 'month': '', 'quarter': '', 'sourceDataset': 'BB', 'updateDate': '2022-10-31T00:00:00.000Z', 'value': '183993', 'year': '1993'}, {'date': '1994', 'label': '1994', 'month': '', 'quarter': '', 'sourceDataset': 'BB', 'updateDate': '2022-10-31T00:00:00.000Z', 'value': '179742', 'year': '1994'}, {'date': '1995', 'label': '1995', 'month': '', 'quarter': '', 'sourceDataset': 'BB', 'updateDate': '2022-10-31T00:00:00.000Z', 'value': '177200', 'year': '1995'}, {'date': '1996', 'label': '1996', 'month': '', 'quarter': '', 'sourceDataset': 'BB', 'updateDate': '2022-10-31T00:00:00.000Z', 'value': '177055', 'year': '1996'}, {'date': '1997', 'label': '1997', 'month': '', 'quarter': '', 'sourceDataset': 'BB', 'updateDate': '2022-10-31T00:00:00.000Z', 'value': '163758', 'year': '1997'}, {'date': '1998', 'label': '1998', 'month': '', 'quarter': '', 'sourceDataset': 'BB', 'updateDate': '2022-10-31T00:00:00.000Z', 'value': '169982', 'year': '1998'}, {'date': '1999', 'label': '1999', 'month': '', 'quarter': '', 'sourceDataset': 'BB', 'updateDate': '2022-10-31T00:00:00.000Z', 'value': '162477', 'year': '1999'}, {'date': '2000', 'label': '2000', 'month': '', 'quarter': '', 'sourceDataset': 'BB', 'updateDate': '2022-10-31T00:00:00.000Z', 'value': '175291', 'year': '2000'}, {'date': '2001', 'label': '2001', 'month': '', 'quarter': '', 'sourceDataset': 'BB', 'updateDate': '2022-10-31T00:00:00.000Z', 'value': '186292', 'year': '2001'}, {'date': '2002', 'label': '2002', 'month': '', 'quarter': '', 'sourceDataset': 'BB', 'updateDate': '2022-10-31T00:00:00.000Z', 'value': '181458', 'year': '2002'}, {'date': '2003', 'label': '2003', 'month': '', 'quarter': '', 'sourceDataset': 'BB', 'updateDate': '2022-10-31T00:00:00.000Z', 'value': '190557', 'year': '2003'}, {'date': '2004', 'label': '2004', 'month': '', 'quarter': '', 'sourceDataset': 'BB', 'updateDate': '2022-10-31T00:00:00.000Z', 'value': '190477', 'year': '2004'}, {'date': '2005', 'label': '2005', 'month': '', 'quarter': '', 'sourceDataset': 'BB', 'updateDate': '2022-10-31T00:00:00.000Z', 'value': '192002', 'year': '2005'}, {'date': '2006', 'label': '2006', 'month': '', 'quarter': '', 'sourceDataset': 'BB', 'updateDate': '2022-10-31T00:00:00.000Z', 'value': '199858', 'year': '2006'}, {'date': '2007', 'label': '2007', 'month': '', 'quarter': '', 'sourceDataset': 'BB', 'updateDate': '2022-10-31T00:00:00.000Z', 'value': '195130', 'year': '2007'}, {'date': '2008', 'label': '2008', 'month': '', 'quarter': '', 'sourceDataset': 'BB', 'updateDate': '2022-10-31T00:00:00.000Z', 'value': '190550', 'year': '2008'}, {'date': '2009', 'label': '2009', 'month': '', 'quarter': '', 'sourceDataset': 'BB', 'updateDate': '2022-10-31T00:00:00.000Z', 'value': '168726', 'year': '2009'}, {'date': '2010', 'label': '2010', 'month': '', 'quarter': '', 'sourceDataset': 'BB', 'updateDate': '2022-10-31T00:00:00.000Z', 'value': '176063', 'year': '2010'}, {'date': '2011', 'label': '2011', 'month': '', 'quarter': '', 'sourceDataset': 'BB', 'updateDate': '2022-10-31T00:00:00.000Z', 'value': '163204', 'year': '2011'}, {'date': '2012', 'label': '2012', 'month': '', 'quarter': '', 'sourceDataset': 'BB', 'updateDate': '2022-10-31T00:00:00.000Z', 'value': '177660', 'year': '2012'}, {'date': '2013', 'label': '2013', 'month': '', 'quarter': '', 'sourceDataset': 'BB', 'updateDate': '2022-10-31T00:00:00.000Z', 'value': '168697', 'year': '2013'}, {'date': '2014', 'label': '2014', 'month': '', 'quarter': '', 'sourceDataset': 'BB', 'updateDate': '2022-10-31T00:00:00.000Z', 'value': '147557', 'year': '2014'}, {'date': '2015', 'label': '2015', 'month': '', 'quarter': '', 'sourceDataset': 'BB', 'updateDate': '2022-10-31T00:00:00.000Z', 'value': '131352', 'year': '2015'}, {'date': '2016', 'label': '2016', 'month': '', 'quarter': '', 'sourceDataset': 'BB', 'updateDate': '2022-10-31T00:00:00.000Z', 'value': '109655', 'year': '2016'}, {'date': '2017', 'label': '2017', 'month': '', 'quarter': '', 'sourceDataset': 'BB', 'updateDate': '2022-10-31T00:00:00.000Z', 'value': '99385', 'year': '2017'}, {'date': '2018', 'label': '2018', 'month': '', 'quarter': '', 'sourceDataset': 'BB', 'updateDate': '2022-10-31T00:00:00.000Z', 'value': '95162', 'year': '2018'}, {'date': '2019', 'label': '2019', 'month': '', 'quarter': '', 'sourceDataset': 'BB', 'updateDate': '2022-10-31T00:00:00.000Z', 'value': '89421', 'year': '2019'}, {'date': '2020', 'label': '2020', 'month': '', 'quarter': '', 'sourceDataset': 'BB', 'updateDate': '2022-10-31T00:00:00.000Z', 'value': '80770', 'year': '2020'}]}\n",
            "Wk5_ONS-fs9r.json\n",
            "-----Iteration Ends-----\n"
          ]
        },
        {
          "output_type": "display_data",
          "data": {
            "text/plain": [
              "<IPython.core.display.Javascript object>"
            ],
            "application/javascript": [
              "\n",
              "    async function download(id, filename, size) {\n",
              "      if (!google.colab.kernel.accessAllowed) {\n",
              "        return;\n",
              "      }\n",
              "      const div = document.createElement('div');\n",
              "      const label = document.createElement('label');\n",
              "      label.textContent = `Downloading \"${filename}\": `;\n",
              "      div.appendChild(label);\n",
              "      const progress = document.createElement('progress');\n",
              "      progress.max = size;\n",
              "      div.appendChild(progress);\n",
              "      document.body.appendChild(div);\n",
              "\n",
              "      const buffers = [];\n",
              "      let downloaded = 0;\n",
              "\n",
              "      const channel = await google.colab.kernel.comms.open(id);\n",
              "      // Send a message to notify the kernel that we're ready.\n",
              "      channel.send({})\n",
              "\n",
              "      for await (const message of channel.messages) {\n",
              "        // Send a message to notify the kernel that we're ready.\n",
              "        channel.send({})\n",
              "        if (message.buffers) {\n",
              "          for (const buffer of message.buffers) {\n",
              "            buffers.push(buffer);\n",
              "            downloaded += buffer.byteLength;\n",
              "            progress.value = downloaded;\n",
              "          }\n",
              "        }\n",
              "      }\n",
              "      const blob = new Blob(buffers, {type: 'application/binary'});\n",
              "      const a = document.createElement('a');\n",
              "      a.href = window.URL.createObjectURL(blob);\n",
              "      a.download = filename;\n",
              "      div.appendChild(a);\n",
              "      a.click();\n",
              "      div.remove();\n",
              "    }\n",
              "  "
            ]
          },
          "metadata": {}
        },
        {
          "output_type": "display_data",
          "data": {
            "text/plain": [
              "<IPython.core.display.Javascript object>"
            ],
            "application/javascript": [
              "download(\"download_cf19e553-c6cd-49bc-96b8-39fd0716846f\", \"Wk5_ONS-fs9r.json\", 10664)"
            ]
          },
          "metadata": {}
        },
        {
          "output_type": "stream",
          "name": "stdout",
          "text": [
            "----- Iteration Starts -----\n",
            "fs9s\n",
            "https://api.ons.gov.uk/timeseries/fs9s/dataset/bb/data\n",
            "{'description': {'cdid': 'FS9S', 'contact': {'email': 'blue.book.coordination@ons.gov.uk  ', 'name': 'Claire Evans', 'telephone': '+44 1633 456545'}, 'datasetId': 'BB', 'datasetUri': '/economy/grossdomesticproductgdp/datasets/bluebook', 'date': '2020', 'nextRelease': 'October 2023', 'number': '24857', 'preUnit': '', 'releaseDate': '2022-10-31T00:00:00.000Z', 'sampleSize': '0', 'source': '', 'title': 'Air emissions All greenhouse gases-Water supply; sewerage, waste management activities-Thousand tonnes CO2 equivalent', 'unit': ''}, 'months': [], 'quarters': [], 'relatedDatasets': [{'uri': '/economy/grossdomesticproductgdp/datasets/bluebook'}], 'relatedDocuments': [{'uri': '/economy/grossdomesticproductgdp/compendium/unitedkingdomnationalaccountsthebluebook/latest'}], 'sourceDatasets': [], 'type': 'timeseries', 'uri': '/economy/grossdomesticproductgdp/timeseries/fs9s/bb', 'versions': [{'correctionNotice': '', 'label': 'v1', 'updateDate': '2019-10-31T09:30:00.000Z', 'uri': '/economy/grossdomesticproductgdp/timeseries/fs9s/bb/previous/v1'}, {'correctionNotice': '', 'label': 'v2', 'updateDate': '2020-11-02T11:01:02.615Z', 'uri': '/economy/grossdomesticproductgdp/timeseries/fs9s/bb/previous/v2'}, {'correctionNotice': '', 'label': 'v3', 'updateDate': '2021-10-29T08:30:00.000Z', 'uri': '/economy/grossdomesticproductgdp/timeseries/fs9s/bb/previous/v3'}, {'correctionNotice': '', 'label': 'v4', 'updateDate': '2022-10-31T09:30:00.000Z', 'uri': '/economy/grossdomesticproductgdp/timeseries/fs9s/bb/previous/v4'}], 'years': [{'date': '1990', 'label': '1990', 'month': '', 'quarter': '', 'sourceDataset': 'BB', 'updateDate': '2022-10-31T00:00:00.000Z', 'value': '67701', 'year': '1990'}, {'date': '1991', 'label': '1991', 'month': '', 'quarter': '', 'sourceDataset': 'BB', 'updateDate': '2022-10-31T00:00:00.000Z', 'value': '69201', 'year': '1991'}, {'date': '1992', 'label': '1992', 'month': '', 'quarter': '', 'sourceDataset': 'BB', 'updateDate': '2022-10-31T00:00:00.000Z', 'value': '69402', 'year': '1992'}, {'date': '1993', 'label': '1993', 'month': '', 'quarter': '', 'sourceDataset': 'BB', 'updateDate': '2022-10-31T00:00:00.000Z', 'value': '69615', 'year': '1993'}, {'date': '1994', 'label': '1994', 'month': '', 'quarter': '', 'sourceDataset': 'BB', 'updateDate': '2022-10-31T00:00:00.000Z', 'value': '69851', 'year': '1994'}, {'date': '1995', 'label': '1995', 'month': '', 'quarter': '', 'sourceDataset': 'BB', 'updateDate': '2022-10-31T00:00:00.000Z', 'value': '70768', 'year': '1995'}, {'date': '1996', 'label': '1996', 'month': '', 'quarter': '', 'sourceDataset': 'BB', 'updateDate': '2022-10-31T00:00:00.000Z', 'value': '71304', 'year': '1996'}, {'date': '1997', 'label': '1997', 'month': '', 'quarter': '', 'sourceDataset': 'BB', 'updateDate': '2022-10-31T00:00:00.000Z', 'value': '70178', 'year': '1997'}, {'date': '1998', 'label': '1998', 'month': '', 'quarter': '', 'sourceDataset': 'BB', 'updateDate': '2022-10-31T00:00:00.000Z', 'value': '71206', 'year': '1998'}, {'date': '1999', 'label': '1999', 'month': '', 'quarter': '', 'sourceDataset': 'BB', 'updateDate': '2022-10-31T00:00:00.000Z', 'value': '66837', 'year': '1999'}, {'date': '2000', 'label': '2000', 'month': '', 'quarter': '', 'sourceDataset': 'BB', 'updateDate': '2022-10-31T00:00:00.000Z', 'value': '64699', 'year': '2000'}, {'date': '2001', 'label': '2001', 'month': '', 'quarter': '', 'sourceDataset': 'BB', 'updateDate': '2022-10-31T00:00:00.000Z', 'value': '62650', 'year': '2001'}, {'date': '2002', 'label': '2002', 'month': '', 'quarter': '', 'sourceDataset': 'BB', 'updateDate': '2022-10-31T00:00:00.000Z', 'value': '61226', 'year': '2002'}, {'date': '2003', 'label': '2003', 'month': '', 'quarter': '', 'sourceDataset': 'BB', 'updateDate': '2022-10-31T00:00:00.000Z', 'value': '57449', 'year': '2003'}, {'date': '2004', 'label': '2004', 'month': '', 'quarter': '', 'sourceDataset': 'BB', 'updateDate': '2022-10-31T00:00:00.000Z', 'value': '53364', 'year': '2004'}, {'date': '2005', 'label': '2005', 'month': '', 'quarter': '', 'sourceDataset': 'BB', 'updateDate': '2022-10-31T00:00:00.000Z', 'value': '51334', 'year': '2005'}, {'date': '2006', 'label': '2006', 'month': '', 'quarter': '', 'sourceDataset': 'BB', 'updateDate': '2022-10-31T00:00:00.000Z', 'value': '48258', 'year': '2006'}, {'date': '2007', 'label': '2007', 'month': '', 'quarter': '', 'sourceDataset': 'BB', 'updateDate': '2022-10-31T00:00:00.000Z', 'value': '45220', 'year': '2007'}, {'date': '2008', 'label': '2008', 'month': '', 'quarter': '', 'sourceDataset': 'BB', 'updateDate': '2022-10-31T00:00:00.000Z', 'value': '40265', 'year': '2008'}, {'date': '2009', 'label': '2009', 'month': '', 'quarter': '', 'sourceDataset': 'BB', 'updateDate': '2022-10-31T00:00:00.000Z', 'value': '36462', 'year': '2009'}, {'date': '2010', 'label': '2010', 'month': '', 'quarter': '', 'sourceDataset': 'BB', 'updateDate': '2022-10-31T00:00:00.000Z', 'value': '32262', 'year': '2010'}, {'date': '2011', 'label': '2011', 'month': '', 'quarter': '', 'sourceDataset': 'BB', 'updateDate': '2022-10-31T00:00:00.000Z', 'value': '30447', 'year': '2011'}, {'date': '2012', 'label': '2012', 'month': '', 'quarter': '', 'sourceDataset': 'BB', 'updateDate': '2022-10-31T00:00:00.000Z', 'value': '29329', 'year': '2012'}, {'date': '2013', 'label': '2013', 'month': '', 'quarter': '', 'sourceDataset': 'BB', 'updateDate': '2022-10-31T00:00:00.000Z', 'value': '26867', 'year': '2013'}, {'date': '2014', 'label': '2014', 'month': '', 'quarter': '', 'sourceDataset': 'BB', 'updateDate': '2022-10-31T00:00:00.000Z', 'value': '25193', 'year': '2014'}, {'date': '2015', 'label': '2015', 'month': '', 'quarter': '', 'sourceDataset': 'BB', 'updateDate': '2022-10-31T00:00:00.000Z', 'value': '25057', 'year': '2015'}, {'date': '2016', 'label': '2016', 'month': '', 'quarter': '', 'sourceDataset': 'BB', 'updateDate': '2022-10-31T00:00:00.000Z', 'value': '25074', 'year': '2016'}, {'date': '2017', 'label': '2017', 'month': '', 'quarter': '', 'sourceDataset': 'BB', 'updateDate': '2022-10-31T00:00:00.000Z', 'value': '26033', 'year': '2017'}, {'date': '2018', 'label': '2018', 'month': '', 'quarter': '', 'sourceDataset': 'BB', 'updateDate': '2022-10-31T00:00:00.000Z', 'value': '26177', 'year': '2018'}, {'date': '2019', 'label': '2019', 'month': '', 'quarter': '', 'sourceDataset': 'BB', 'updateDate': '2022-10-31T00:00:00.000Z', 'value': '26009', 'year': '2019'}, {'date': '2020', 'label': '2020', 'month': '', 'quarter': '', 'sourceDataset': 'BB', 'updateDate': '2022-10-31T00:00:00.000Z', 'value': '24857', 'year': '2020'}]}\n",
            "Wk5_ONS-fs9s.json\n",
            "-----Iteration Ends-----\n"
          ]
        },
        {
          "output_type": "display_data",
          "data": {
            "text/plain": [
              "<IPython.core.display.Javascript object>"
            ],
            "application/javascript": [
              "\n",
              "    async function download(id, filename, size) {\n",
              "      if (!google.colab.kernel.accessAllowed) {\n",
              "        return;\n",
              "      }\n",
              "      const div = document.createElement('div');\n",
              "      const label = document.createElement('label');\n",
              "      label.textContent = `Downloading \"${filename}\": `;\n",
              "      div.appendChild(label);\n",
              "      const progress = document.createElement('progress');\n",
              "      progress.max = size;\n",
              "      div.appendChild(progress);\n",
              "      document.body.appendChild(div);\n",
              "\n",
              "      const buffers = [];\n",
              "      let downloaded = 0;\n",
              "\n",
              "      const channel = await google.colab.kernel.comms.open(id);\n",
              "      // Send a message to notify the kernel that we're ready.\n",
              "      channel.send({})\n",
              "\n",
              "      for await (const message of channel.messages) {\n",
              "        // Send a message to notify the kernel that we're ready.\n",
              "        channel.send({})\n",
              "        if (message.buffers) {\n",
              "          for (const buffer of message.buffers) {\n",
              "            buffers.push(buffer);\n",
              "            downloaded += buffer.byteLength;\n",
              "            progress.value = downloaded;\n",
              "          }\n",
              "        }\n",
              "      }\n",
              "      const blob = new Blob(buffers, {type: 'application/binary'});\n",
              "      const a = document.createElement('a');\n",
              "      a.href = window.URL.createObjectURL(blob);\n",
              "      a.download = filename;\n",
              "      div.appendChild(a);\n",
              "      a.click();\n",
              "      div.remove();\n",
              "    }\n",
              "  "
            ]
          },
          "metadata": {}
        },
        {
          "output_type": "display_data",
          "data": {
            "text/plain": [
              "<IPython.core.display.Javascript object>"
            ],
            "application/javascript": [
              "download(\"download_f19bfe49-fc15-46d5-ab77-b2a1bb8308ad\", \"Wk5_ONS-fs9s.json\", 10637)"
            ]
          },
          "metadata": {}
        },
        {
          "output_type": "stream",
          "name": "stdout",
          "text": [
            "----- Iteration Starts -----\n",
            "fs9t\n",
            "https://api.ons.gov.uk/timeseries/fs9t/dataset/bb/data\n",
            "{'description': {'cdid': 'FS9T', 'contact': {'email': 'blue.book.coordination@ons.gov.uk  ', 'name': 'Claire Evans', 'telephone': '+44 1633 456545'}, 'datasetId': 'BB', 'datasetUri': '/economy/grossdomesticproductgdp/datasets/bluebook', 'date': '2020', 'nextRelease': 'October 2023', 'number': '54264', 'preUnit': '', 'releaseDate': '2022-10-31T00:00:00.000Z', 'sampleSize': '0', 'source': '', 'title': 'Air emissions All greenhouse gases-Transport and storage-Thousand tonnes CO2 equivalent', 'unit': ''}, 'months': [], 'quarters': [], 'relatedDatasets': [{'uri': '/economy/grossdomesticproductgdp/datasets/bluebook'}], 'relatedDocuments': [{'uri': '/economy/grossdomesticproductgdp/compendium/unitedkingdomnationalaccountsthebluebook/latest'}], 'sourceDatasets': [], 'type': 'timeseries', 'uri': '/economy/grossdomesticproductgdp/timeseries/fs9t/bb', 'versions': [{'correctionNotice': '', 'label': 'v1', 'updateDate': '2019-10-31T09:30:00.000Z', 'uri': '/economy/grossdomesticproductgdp/timeseries/fs9t/bb/previous/v1'}, {'correctionNotice': '', 'label': 'v2', 'updateDate': '2020-11-02T11:01:02.615Z', 'uri': '/economy/grossdomesticproductgdp/timeseries/fs9t/bb/previous/v2'}, {'correctionNotice': '', 'label': 'v3', 'updateDate': '2021-10-29T08:30:00.000Z', 'uri': '/economy/grossdomesticproductgdp/timeseries/fs9t/bb/previous/v3'}, {'correctionNotice': '', 'label': 'v4', 'updateDate': '2022-10-31T09:30:00.000Z', 'uri': '/economy/grossdomesticproductgdp/timeseries/fs9t/bb/previous/v4'}], 'years': [{'date': '1990', 'label': '1990', 'month': '', 'quarter': '', 'sourceDataset': 'BB', 'updateDate': '2022-10-31T00:00:00.000Z', 'value': '65998', 'year': '1990'}, {'date': '1991', 'label': '1991', 'month': '', 'quarter': '', 'sourceDataset': 'BB', 'updateDate': '2022-10-31T00:00:00.000Z', 'value': '66529', 'year': '1991'}, {'date': '1992', 'label': '1992', 'month': '', 'quarter': '', 'sourceDataset': 'BB', 'updateDate': '2022-10-31T00:00:00.000Z', 'value': '67600', 'year': '1992'}, {'date': '1993', 'label': '1993', 'month': '', 'quarter': '', 'sourceDataset': 'BB', 'updateDate': '2022-10-31T00:00:00.000Z', 'value': '68962', 'year': '1993'}, {'date': '1994', 'label': '1994', 'month': '', 'quarter': '', 'sourceDataset': 'BB', 'updateDate': '2022-10-31T00:00:00.000Z', 'value': '69959', 'year': '1994'}, {'date': '1995', 'label': '1995', 'month': '', 'quarter': '', 'sourceDataset': 'BB', 'updateDate': '2022-10-31T00:00:00.000Z', 'value': '72797', 'year': '1995'}, {'date': '1996', 'label': '1996', 'month': '', 'quarter': '', 'sourceDataset': 'BB', 'updateDate': '2022-10-31T00:00:00.000Z', 'value': '78480', 'year': '1996'}, {'date': '1997', 'label': '1997', 'month': '', 'quarter': '', 'sourceDataset': 'BB', 'updateDate': '2022-10-31T00:00:00.000Z', 'value': '87546', 'year': '1997'}, {'date': '1998', 'label': '1998', 'month': '', 'quarter': '', 'sourceDataset': 'BB', 'updateDate': '2022-10-31T00:00:00.000Z', 'value': '93030', 'year': '1998'}, {'date': '1999', 'label': '1999', 'month': '', 'quarter': '', 'sourceDataset': 'BB', 'updateDate': '2022-10-31T00:00:00.000Z', 'value': '91092', 'year': '1999'}, {'date': '2000', 'label': '2000', 'month': '', 'quarter': '', 'sourceDataset': 'BB', 'updateDate': '2022-10-31T00:00:00.000Z', 'value': '93767', 'year': '2000'}, {'date': '2001', 'label': '2001', 'month': '', 'quarter': '', 'sourceDataset': 'BB', 'updateDate': '2022-10-31T00:00:00.000Z', 'value': '97607', 'year': '2001'}, {'date': '2002', 'label': '2002', 'month': '', 'quarter': '', 'sourceDataset': 'BB', 'updateDate': '2022-10-31T00:00:00.000Z', 'value': '94135', 'year': '2002'}, {'date': '2003', 'label': '2003', 'month': '', 'quarter': '', 'sourceDataset': 'BB', 'updateDate': '2022-10-31T00:00:00.000Z', 'value': '94145', 'year': '2003'}, {'date': '2004', 'label': '2004', 'month': '', 'quarter': '', 'sourceDataset': 'BB', 'updateDate': '2022-10-31T00:00:00.000Z', 'value': '96290', 'year': '2004'}, {'date': '2005', 'label': '2005', 'month': '', 'quarter': '', 'sourceDataset': 'BB', 'updateDate': '2022-10-31T00:00:00.000Z', 'value': '98265', 'year': '2005'}, {'date': '2006', 'label': '2006', 'month': '', 'quarter': '', 'sourceDataset': 'BB', 'updateDate': '2022-10-31T00:00:00.000Z', 'value': '89371', 'year': '2006'}, {'date': '2007', 'label': '2007', 'month': '', 'quarter': '', 'sourceDataset': 'BB', 'updateDate': '2022-10-31T00:00:00.000Z', 'value': '93530', 'year': '2007'}, {'date': '2008', 'label': '2008', 'month': '', 'quarter': '', 'sourceDataset': 'BB', 'updateDate': '2022-10-31T00:00:00.000Z', 'value': '89520', 'year': '2008'}, {'date': '2009', 'label': '2009', 'month': '', 'quarter': '', 'sourceDataset': 'BB', 'updateDate': '2022-10-31T00:00:00.000Z', 'value': '82599', 'year': '2009'}, {'date': '2010', 'label': '2010', 'month': '', 'quarter': '', 'sourceDataset': 'BB', 'updateDate': '2022-10-31T00:00:00.000Z', 'value': '82896', 'year': '2010'}, {'date': '2011', 'label': '2011', 'month': '', 'quarter': '', 'sourceDataset': 'BB', 'updateDate': '2022-10-31T00:00:00.000Z', 'value': '86494', 'year': '2011'}, {'date': '2012', 'label': '2012', 'month': '', 'quarter': '', 'sourceDataset': 'BB', 'updateDate': '2022-10-31T00:00:00.000Z', 'value': '82546', 'year': '2012'}, {'date': '2013', 'label': '2013', 'month': '', 'quarter': '', 'sourceDataset': 'BB', 'updateDate': '2022-10-31T00:00:00.000Z', 'value': '79602', 'year': '2013'}, {'date': '2014', 'label': '2014', 'month': '', 'quarter': '', 'sourceDataset': 'BB', 'updateDate': '2022-10-31T00:00:00.000Z', 'value': '84494', 'year': '2014'}, {'date': '2015', 'label': '2015', 'month': '', 'quarter': '', 'sourceDataset': 'BB', 'updateDate': '2022-10-31T00:00:00.000Z', 'value': '86379', 'year': '2015'}, {'date': '2016', 'label': '2016', 'month': '', 'quarter': '', 'sourceDataset': 'BB', 'updateDate': '2022-10-31T00:00:00.000Z', 'value': '88948', 'year': '2016'}, {'date': '2017', 'label': '2017', 'month': '', 'quarter': '', 'sourceDataset': 'BB', 'updateDate': '2022-10-31T00:00:00.000Z', 'value': '82583', 'year': '2017'}, {'date': '2018', 'label': '2018', 'month': '', 'quarter': '', 'sourceDataset': 'BB', 'updateDate': '2022-10-31T00:00:00.000Z', 'value': '87242', 'year': '2018'}, {'date': '2019', 'label': '2019', 'month': '', 'quarter': '', 'sourceDataset': 'BB', 'updateDate': '2022-10-31T00:00:00.000Z', 'value': '85748', 'year': '2019'}, {'date': '2020', 'label': '2020', 'month': '', 'quarter': '', 'sourceDataset': 'BB', 'updateDate': '2022-10-31T00:00:00.000Z', 'value': '54264', 'year': '2020'}]}\n",
            "Wk5_ONS-fs9t.json\n",
            "-----Iteration Ends-----\n"
          ]
        },
        {
          "output_type": "display_data",
          "data": {
            "text/plain": [
              "<IPython.core.display.Javascript object>"
            ],
            "application/javascript": [
              "\n",
              "    async function download(id, filename, size) {\n",
              "      if (!google.colab.kernel.accessAllowed) {\n",
              "        return;\n",
              "      }\n",
              "      const div = document.createElement('div');\n",
              "      const label = document.createElement('label');\n",
              "      label.textContent = `Downloading \"${filename}\": `;\n",
              "      div.appendChild(label);\n",
              "      const progress = document.createElement('progress');\n",
              "      progress.max = size;\n",
              "      div.appendChild(progress);\n",
              "      document.body.appendChild(div);\n",
              "\n",
              "      const buffers = [];\n",
              "      let downloaded = 0;\n",
              "\n",
              "      const channel = await google.colab.kernel.comms.open(id);\n",
              "      // Send a message to notify the kernel that we're ready.\n",
              "      channel.send({})\n",
              "\n",
              "      for await (const message of channel.messages) {\n",
              "        // Send a message to notify the kernel that we're ready.\n",
              "        channel.send({})\n",
              "        if (message.buffers) {\n",
              "          for (const buffer of message.buffers) {\n",
              "            buffers.push(buffer);\n",
              "            downloaded += buffer.byteLength;\n",
              "            progress.value = downloaded;\n",
              "          }\n",
              "        }\n",
              "      }\n",
              "      const blob = new Blob(buffers, {type: 'application/binary'});\n",
              "      const a = document.createElement('a');\n",
              "      a.href = window.URL.createObjectURL(blob);\n",
              "      a.download = filename;\n",
              "      div.appendChild(a);\n",
              "      a.click();\n",
              "      div.remove();\n",
              "    }\n",
              "  "
            ]
          },
          "metadata": {}
        },
        {
          "output_type": "display_data",
          "data": {
            "text/plain": [
              "<IPython.core.display.Javascript object>"
            ],
            "application/javascript": [
              "download(\"download_4eea5379-9705-4647-9ed5-53d715a3c641\", \"Wk5_ONS-fs9t.json\", 10607)"
            ]
          },
          "metadata": {}
        },
        {
          "output_type": "stream",
          "name": "stdout",
          "text": [
            "----- Iteration Starts -----\n",
            "k8aq\n",
            "https://api.ons.gov.uk/timeseries/k8aq/dataset/bb/data\n",
            "{'description': {'cdid': 'K8AQ', 'contact': {'email': 'blue.book.coordination@ons.gov.uk  ', 'name': 'Claire Evans', 'telephone': '+44 1633 456545'}, 'datasetId': 'BB', 'datasetUri': '/economy/grossdomesticproductgdp/datasets/bluebook', 'date': '2020', 'nextRelease': 'October 2023', 'number': '46843', 'preUnit': '', 'releaseDate': '2022-10-31T00:00:00.000Z', 'sampleSize': '0', 'source': '', 'title': 'Air emissions All greenhouse gases-Agriculture, forestry and fishing-Thousand tonnes CO2 equivalent', 'unit': ''}, 'months': [], 'quarters': [], 'relatedDatasets': [{'uri': '/economy/grossdomesticproductgdp/datasets/bluebook'}], 'relatedDocuments': [{'uri': '/economy/grossdomesticproductgdp/compendium/unitedkingdomnationalaccountsthebluebook/latest'}], 'sourceDatasets': [], 'type': 'timeseries', 'uri': '/economy/grossdomesticproductgdp/timeseries/k8aq/bb', 'versions': [{'correctionNotice': '', 'label': 'v1', 'updateDate': '2016-07-29T08:30:00.000Z', 'uri': '/economy/grossdomesticproductgdp/timeseries/k8aq/bb/previous/v1'}, {'correctionNotice': '', 'label': 'v2', 'updateDate': '2017-10-31T09:30:00.000Z', 'uri': '/economy/grossdomesticproductgdp/timeseries/k8aq/bb/previous/v2'}, {'correctionNotice': '', 'label': 'v3', 'updateDate': '2018-07-31T08:30:00.000Z', 'uri': '/economy/grossdomesticproductgdp/timeseries/k8aq/bb/previous/v3'}, {'correctionNotice': '', 'label': 'v4', 'updateDate': '2019-10-31T09:30:00.000Z', 'uri': '/economy/grossdomesticproductgdp/timeseries/k8aq/bb/previous/v4'}, {'correctionNotice': '', 'label': 'v5', 'updateDate': '2020-11-02T11:01:02.615Z', 'uri': '/economy/grossdomesticproductgdp/timeseries/k8aq/bb/previous/v5'}, {'correctionNotice': '', 'label': 'v6', 'updateDate': '2021-10-29T08:30:00.000Z', 'uri': '/economy/grossdomesticproductgdp/timeseries/k8aq/bb/previous/v6'}, {'correctionNotice': '', 'label': 'v7', 'updateDate': '2022-10-31T09:30:00.000Z', 'uri': '/economy/grossdomesticproductgdp/timeseries/k8aq/bb/previous/v7'}], 'years': [{'date': '1990', 'label': '1990', 'month': '', 'quarter': '', 'sourceDataset': 'BB', 'updateDate': '2022-10-31T00:00:00.000Z', 'value': '55232', 'year': '1990'}, {'date': '1991', 'label': '1991', 'month': '', 'quarter': '', 'sourceDataset': 'BB', 'updateDate': '2022-10-31T00:00:00.000Z', 'value': '54984', 'year': '1991'}, {'date': '1992', 'label': '1992', 'month': '', 'quarter': '', 'sourceDataset': 'BB', 'updateDate': '2022-10-31T00:00:00.000Z', 'value': '54544', 'year': '1992'}, {'date': '1993', 'label': '1993', 'month': '', 'quarter': '', 'sourceDataset': 'BB', 'updateDate': '2022-10-31T00:00:00.000Z', 'value': '53738', 'year': '1993'}, {'date': '1994', 'label': '1994', 'month': '', 'quarter': '', 'sourceDataset': 'BB', 'updateDate': '2022-10-31T00:00:00.000Z', 'value': '54941', 'year': '1994'}, {'date': '1995', 'label': '1995', 'month': '', 'quarter': '', 'sourceDataset': 'BB', 'updateDate': '2022-10-31T00:00:00.000Z', 'value': '54771', 'year': '1995'}, {'date': '1996', 'label': '1996', 'month': '', 'quarter': '', 'sourceDataset': 'BB', 'updateDate': '2022-10-31T00:00:00.000Z', 'value': '55696', 'year': '1996'}, {'date': '1997', 'label': '1997', 'month': '', 'quarter': '', 'sourceDataset': 'BB', 'updateDate': '2022-10-31T00:00:00.000Z', 'value': '54825', 'year': '1997'}, {'date': '1998', 'label': '1998', 'month': '', 'quarter': '', 'sourceDataset': 'BB', 'updateDate': '2022-10-31T00:00:00.000Z', 'value': '54809', 'year': '1998'}, {'date': '1999', 'label': '1999', 'month': '', 'quarter': '', 'sourceDataset': 'BB', 'updateDate': '2022-10-31T00:00:00.000Z', 'value': '54703', 'year': '1999'}, {'date': '2000', 'label': '2000', 'month': '', 'quarter': '', 'sourceDataset': 'BB', 'updateDate': '2022-10-31T00:00:00.000Z', 'value': '52164', 'year': '2000'}, {'date': '2001', 'label': '2001', 'month': '', 'quarter': '', 'sourceDataset': 'BB', 'updateDate': '2022-10-31T00:00:00.000Z', 'value': '49943', 'year': '2001'}, {'date': '2002', 'label': '2002', 'month': '', 'quarter': '', 'sourceDataset': 'BB', 'updateDate': '2022-10-31T00:00:00.000Z', 'value': '49547', 'year': '2002'}, {'date': '2003', 'label': '2003', 'month': '', 'quarter': '', 'sourceDataset': 'BB', 'updateDate': '2022-10-31T00:00:00.000Z', 'value': '50348', 'year': '2003'}, {'date': '2004', 'label': '2004', 'month': '', 'quarter': '', 'sourceDataset': 'BB', 'updateDate': '2022-10-31T00:00:00.000Z', 'value': '50387', 'year': '2004'}, {'date': '2005', 'label': '2005', 'month': '', 'quarter': '', 'sourceDataset': 'BB', 'updateDate': '2022-10-31T00:00:00.000Z', 'value': '50096', 'year': '2005'}, {'date': '2006', 'label': '2006', 'month': '', 'quarter': '', 'sourceDataset': 'BB', 'updateDate': '2022-10-31T00:00:00.000Z', 'value': '48757', 'year': '2006'}, {'date': '2007', 'label': '2007', 'month': '', 'quarter': '', 'sourceDataset': 'BB', 'updateDate': '2022-10-31T00:00:00.000Z', 'value': '48041', 'year': '2007'}, {'date': '2008', 'label': '2008', 'month': '', 'quarter': '', 'sourceDataset': 'BB', 'updateDate': '2022-10-31T00:00:00.000Z', 'value': '46777', 'year': '2008'}, {'date': '2009', 'label': '2009', 'month': '', 'quarter': '', 'sourceDataset': 'BB', 'updateDate': '2022-10-31T00:00:00.000Z', 'value': '46414', 'year': '2009'}, {'date': '2010', 'label': '2010', 'month': '', 'quarter': '', 'sourceDataset': 'BB', 'updateDate': '2022-10-31T00:00:00.000Z', 'value': '46816', 'year': '2010'}, {'date': '2011', 'label': '2011', 'month': '', 'quarter': '', 'sourceDataset': 'BB', 'updateDate': '2022-10-31T00:00:00.000Z', 'value': '46789', 'year': '2011'}, {'date': '2012', 'label': '2012', 'month': '', 'quarter': '', 'sourceDataset': 'BB', 'updateDate': '2022-10-31T00:00:00.000Z', 'value': '46521', 'year': '2012'}, {'date': '2013', 'label': '2013', 'month': '', 'quarter': '', 'sourceDataset': 'BB', 'updateDate': '2022-10-31T00:00:00.000Z', 'value': '46319', 'year': '2013'}, {'date': '2014', 'label': '2014', 'month': '', 'quarter': '', 'sourceDataset': 'BB', 'updateDate': '2022-10-31T00:00:00.000Z', 'value': '48210', 'year': '2014'}, {'date': '2015', 'label': '2015', 'month': '', 'quarter': '', 'sourceDataset': 'BB', 'updateDate': '2022-10-31T00:00:00.000Z', 'value': '48144', 'year': '2015'}, {'date': '2016', 'label': '2016', 'month': '', 'quarter': '', 'sourceDataset': 'BB', 'updateDate': '2022-10-31T00:00:00.000Z', 'value': '48312', 'year': '2016'}, {'date': '2017', 'label': '2017', 'month': '', 'quarter': '', 'sourceDataset': 'BB', 'updateDate': '2022-10-31T00:00:00.000Z', 'value': '48947', 'year': '2017'}, {'date': '2018', 'label': '2018', 'month': '', 'quarter': '', 'sourceDataset': 'BB', 'updateDate': '2022-10-31T00:00:00.000Z', 'value': '48417', 'year': '2018'}, {'date': '2019', 'label': '2019', 'month': '', 'quarter': '', 'sourceDataset': 'BB', 'updateDate': '2022-10-31T00:00:00.000Z', 'value': '48575', 'year': '2019'}, {'date': '2020', 'label': '2020', 'month': '', 'quarter': '', 'sourceDataset': 'BB', 'updateDate': '2022-10-31T00:00:00.000Z', 'value': '46843', 'year': '2020'}]}\n",
            "Wk5_ONS-k8aq.json\n",
            "-----Iteration Ends-----\n"
          ]
        },
        {
          "output_type": "display_data",
          "data": {
            "text/plain": [
              "<IPython.core.display.Javascript object>"
            ],
            "application/javascript": [
              "\n",
              "    async function download(id, filename, size) {\n",
              "      if (!google.colab.kernel.accessAllowed) {\n",
              "        return;\n",
              "      }\n",
              "      const div = document.createElement('div');\n",
              "      const label = document.createElement('label');\n",
              "      label.textContent = `Downloading \"${filename}\": `;\n",
              "      div.appendChild(label);\n",
              "      const progress = document.createElement('progress');\n",
              "      progress.max = size;\n",
              "      div.appendChild(progress);\n",
              "      document.body.appendChild(div);\n",
              "\n",
              "      const buffers = [];\n",
              "      let downloaded = 0;\n",
              "\n",
              "      const channel = await google.colab.kernel.comms.open(id);\n",
              "      // Send a message to notify the kernel that we're ready.\n",
              "      channel.send({})\n",
              "\n",
              "      for await (const message of channel.messages) {\n",
              "        // Send a message to notify the kernel that we're ready.\n",
              "        channel.send({})\n",
              "        if (message.buffers) {\n",
              "          for (const buffer of message.buffers) {\n",
              "            buffers.push(buffer);\n",
              "            downloaded += buffer.byteLength;\n",
              "            progress.value = downloaded;\n",
              "          }\n",
              "        }\n",
              "      }\n",
              "      const blob = new Blob(buffers, {type: 'application/binary'});\n",
              "      const a = document.createElement('a');\n",
              "      a.href = window.URL.createObjectURL(blob);\n",
              "      a.download = filename;\n",
              "      div.appendChild(a);\n",
              "      a.click();\n",
              "      div.remove();\n",
              "    }\n",
              "  "
            ]
          },
          "metadata": {}
        },
        {
          "output_type": "display_data",
          "data": {
            "text/plain": [
              "<IPython.core.display.Javascript object>"
            ],
            "application/javascript": [
              "download(\"download_ab99681f-f20d-44df-bb4f-a53e814a2b41\", \"Wk5_ONS-k8aq.json\", 11288)"
            ]
          },
          "metadata": {}
        },
        {
          "output_type": "stream",
          "name": "stdout",
          "text": [
            "----- Iteration Starts -----\n",
            "k8av\n",
            "https://api.ons.gov.uk/timeseries/k8av/dataset/bb/data\n",
            "{'description': {'cdid': 'K8AV', 'contact': {'email': 'blue.book.coordination@ons.gov.uk  ', 'name': 'Claire Evans', 'telephone': '+44 1633 456545'}, 'datasetId': 'BB', 'datasetUri': '/economy/grossdomesticproductgdp/datasets/bluebook', 'date': '2020', 'nextRelease': 'October 2023', 'number': '13801', 'preUnit': '', 'releaseDate': '2022-10-31T00:00:00.000Z', 'sampleSize': '0', 'source': '', 'title': 'Air emissions All greenhouse gases-Wholesale and retail trade; repair of motor vehicles-Thousand tonnes CO2 equivalent', 'unit': ''}, 'months': [], 'quarters': [], 'relatedDatasets': [{'uri': '/economy/grossdomesticproductgdp/datasets/bluebook'}], 'relatedDocuments': [{'uri': '/economy/grossdomesticproductgdp/compendium/unitedkingdomnationalaccountsthebluebook/latest'}], 'sourceDatasets': [], 'type': 'timeseries', 'uri': '/economy/grossdomesticproductgdp/timeseries/k8av/bb', 'versions': [{'correctionNotice': '', 'label': 'v1', 'updateDate': '2016-07-29T08:30:00.000Z', 'uri': '/economy/grossdomesticproductgdp/timeseries/k8av/bb/previous/v1'}, {'correctionNotice': '', 'label': 'v2', 'updateDate': '2017-10-31T09:30:00.000Z', 'uri': '/economy/grossdomesticproductgdp/timeseries/k8av/bb/previous/v2'}, {'correctionNotice': '', 'label': 'v3', 'updateDate': '2018-07-31T08:30:00.000Z', 'uri': '/economy/grossdomesticproductgdp/timeseries/k8av/bb/previous/v3'}, {'correctionNotice': '', 'label': 'v4', 'updateDate': '2019-10-31T09:30:00.000Z', 'uri': '/economy/grossdomesticproductgdp/timeseries/k8av/bb/previous/v4'}, {'correctionNotice': '', 'label': 'v5', 'updateDate': '2020-11-02T11:01:02.615Z', 'uri': '/economy/grossdomesticproductgdp/timeseries/k8av/bb/previous/v5'}, {'correctionNotice': '', 'label': 'v6', 'updateDate': '2021-10-29T08:30:00.000Z', 'uri': '/economy/grossdomesticproductgdp/timeseries/k8av/bb/previous/v6'}, {'correctionNotice': '', 'label': 'v7', 'updateDate': '2022-10-31T09:30:00.000Z', 'uri': '/economy/grossdomesticproductgdp/timeseries/k8av/bb/previous/v7'}], 'years': [{'date': '1990', 'label': '1990', 'month': '', 'quarter': '', 'sourceDataset': 'BB', 'updateDate': '2022-10-31T00:00:00.000Z', 'value': '11724', 'year': '1990'}, {'date': '1991', 'label': '1991', 'month': '', 'quarter': '', 'sourceDataset': 'BB', 'updateDate': '2022-10-31T00:00:00.000Z', 'value': '12114', 'year': '1991'}, {'date': '1992', 'label': '1992', 'month': '', 'quarter': '', 'sourceDataset': 'BB', 'updateDate': '2022-10-31T00:00:00.000Z', 'value': '11933', 'year': '1992'}, {'date': '1993', 'label': '1993', 'month': '', 'quarter': '', 'sourceDataset': 'BB', 'updateDate': '2022-10-31T00:00:00.000Z', 'value': '12179', 'year': '1993'}, {'date': '1994', 'label': '1994', 'month': '', 'quarter': '', 'sourceDataset': 'BB', 'updateDate': '2022-10-31T00:00:00.000Z', 'value': '12563', 'year': '1994'}, {'date': '1995', 'label': '1995', 'month': '', 'quarter': '', 'sourceDataset': 'BB', 'updateDate': '2022-10-31T00:00:00.000Z', 'value': '12745', 'year': '1995'}, {'date': '1996', 'label': '1996', 'month': '', 'quarter': '', 'sourceDataset': 'BB', 'updateDate': '2022-10-31T00:00:00.000Z', 'value': '13070', 'year': '1996'}, {'date': '1997', 'label': '1997', 'month': '', 'quarter': '', 'sourceDataset': 'BB', 'updateDate': '2022-10-31T00:00:00.000Z', 'value': '12967', 'year': '1997'}, {'date': '1998', 'label': '1998', 'month': '', 'quarter': '', 'sourceDataset': 'BB', 'updateDate': '2022-10-31T00:00:00.000Z', 'value': '13375', 'year': '1998'}, {'date': '1999', 'label': '1999', 'month': '', 'quarter': '', 'sourceDataset': 'BB', 'updateDate': '2022-10-31T00:00:00.000Z', 'value': '13921', 'year': '1999'}, {'date': '2000', 'label': '2000', 'month': '', 'quarter': '', 'sourceDataset': 'BB', 'updateDate': '2022-10-31T00:00:00.000Z', 'value': '14214', 'year': '2000'}, {'date': '2001', 'label': '2001', 'month': '', 'quarter': '', 'sourceDataset': 'BB', 'updateDate': '2022-10-31T00:00:00.000Z', 'value': '14093', 'year': '2001'}, {'date': '2002', 'label': '2002', 'month': '', 'quarter': '', 'sourceDataset': 'BB', 'updateDate': '2022-10-31T00:00:00.000Z', 'value': '13816', 'year': '2002'}, {'date': '2003', 'label': '2003', 'month': '', 'quarter': '', 'sourceDataset': 'BB', 'updateDate': '2022-10-31T00:00:00.000Z', 'value': '14376', 'year': '2003'}, {'date': '2004', 'label': '2004', 'month': '', 'quarter': '', 'sourceDataset': 'BB', 'updateDate': '2022-10-31T00:00:00.000Z', 'value': '14601', 'year': '2004'}, {'date': '2005', 'label': '2005', 'month': '', 'quarter': '', 'sourceDataset': 'BB', 'updateDate': '2022-10-31T00:00:00.000Z', 'value': '14874', 'year': '2005'}, {'date': '2006', 'label': '2006', 'month': '', 'quarter': '', 'sourceDataset': 'BB', 'updateDate': '2022-10-31T00:00:00.000Z', 'value': '15132', 'year': '2006'}, {'date': '2007', 'label': '2007', 'month': '', 'quarter': '', 'sourceDataset': 'BB', 'updateDate': '2022-10-31T00:00:00.000Z', 'value': '15782', 'year': '2007'}, {'date': '2008', 'label': '2008', 'month': '', 'quarter': '', 'sourceDataset': 'BB', 'updateDate': '2022-10-31T00:00:00.000Z', 'value': '16444', 'year': '2008'}, {'date': '2009', 'label': '2009', 'month': '', 'quarter': '', 'sourceDataset': 'BB', 'updateDate': '2022-10-31T00:00:00.000Z', 'value': '16659', 'year': '2009'}, {'date': '2010', 'label': '2010', 'month': '', 'quarter': '', 'sourceDataset': 'BB', 'updateDate': '2022-10-31T00:00:00.000Z', 'value': '17175', 'year': '2010'}, {'date': '2011', 'label': '2011', 'month': '', 'quarter': '', 'sourceDataset': 'BB', 'updateDate': '2022-10-31T00:00:00.000Z', 'value': '16887', 'year': '2011'}, {'date': '2012', 'label': '2012', 'month': '', 'quarter': '', 'sourceDataset': 'BB', 'updateDate': '2022-10-31T00:00:00.000Z', 'value': '17193', 'year': '2012'}, {'date': '2013', 'label': '2013', 'month': '', 'quarter': '', 'sourceDataset': 'BB', 'updateDate': '2022-10-31T00:00:00.000Z', 'value': '16846', 'year': '2013'}, {'date': '2014', 'label': '2014', 'month': '', 'quarter': '', 'sourceDataset': 'BB', 'updateDate': '2022-10-31T00:00:00.000Z', 'value': '16672', 'year': '2014'}, {'date': '2015', 'label': '2015', 'month': '', 'quarter': '', 'sourceDataset': 'BB', 'updateDate': '2022-10-31T00:00:00.000Z', 'value': '16801', 'year': '2015'}, {'date': '2016', 'label': '2016', 'month': '', 'quarter': '', 'sourceDataset': 'BB', 'updateDate': '2022-10-31T00:00:00.000Z', 'value': '17054', 'year': '2016'}, {'date': '2017', 'label': '2017', 'month': '', 'quarter': '', 'sourceDataset': 'BB', 'updateDate': '2022-10-31T00:00:00.000Z', 'value': '16607', 'year': '2017'}, {'date': '2018', 'label': '2018', 'month': '', 'quarter': '', 'sourceDataset': 'BB', 'updateDate': '2022-10-31T00:00:00.000Z', 'value': '16081', 'year': '2018'}, {'date': '2019', 'label': '2019', 'month': '', 'quarter': '', 'sourceDataset': 'BB', 'updateDate': '2022-10-31T00:00:00.000Z', 'value': '15643', 'year': '2019'}, {'date': '2020', 'label': '2020', 'month': '', 'quarter': '', 'sourceDataset': 'BB', 'updateDate': '2022-10-31T00:00:00.000Z', 'value': '13801', 'year': '2020'}]}\n",
            "Wk5_ONS-k8av.json\n",
            "-----Iteration Ends-----\n"
          ]
        },
        {
          "output_type": "display_data",
          "data": {
            "text/plain": [
              "<IPython.core.display.Javascript object>"
            ],
            "application/javascript": [
              "\n",
              "    async function download(id, filename, size) {\n",
              "      if (!google.colab.kernel.accessAllowed) {\n",
              "        return;\n",
              "      }\n",
              "      const div = document.createElement('div');\n",
              "      const label = document.createElement('label');\n",
              "      label.textContent = `Downloading \"${filename}\": `;\n",
              "      div.appendChild(label);\n",
              "      const progress = document.createElement('progress');\n",
              "      progress.max = size;\n",
              "      div.appendChild(progress);\n",
              "      document.body.appendChild(div);\n",
              "\n",
              "      const buffers = [];\n",
              "      let downloaded = 0;\n",
              "\n",
              "      const channel = await google.colab.kernel.comms.open(id);\n",
              "      // Send a message to notify the kernel that we're ready.\n",
              "      channel.send({})\n",
              "\n",
              "      for await (const message of channel.messages) {\n",
              "        // Send a message to notify the kernel that we're ready.\n",
              "        channel.send({})\n",
              "        if (message.buffers) {\n",
              "          for (const buffer of message.buffers) {\n",
              "            buffers.push(buffer);\n",
              "            downloaded += buffer.byteLength;\n",
              "            progress.value = downloaded;\n",
              "          }\n",
              "        }\n",
              "      }\n",
              "      const blob = new Blob(buffers, {type: 'application/binary'});\n",
              "      const a = document.createElement('a');\n",
              "      a.href = window.URL.createObjectURL(blob);\n",
              "      a.download = filename;\n",
              "      div.appendChild(a);\n",
              "      a.click();\n",
              "      div.remove();\n",
              "    }\n",
              "  "
            ]
          },
          "metadata": {}
        },
        {
          "output_type": "display_data",
          "data": {
            "text/plain": [
              "<IPython.core.display.Javascript object>"
            ],
            "application/javascript": [
              "download(\"download_09904359-a3c7-4290-9979-316babb1b92f\", \"Wk5_ONS-k8av.json\", 11307)"
            ]
          },
          "metadata": {}
        }
      ]
    }
  ]
}